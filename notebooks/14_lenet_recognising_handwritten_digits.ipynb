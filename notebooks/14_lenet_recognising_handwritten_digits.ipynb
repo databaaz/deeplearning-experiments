{
 "cells": [
  {
   "cell_type": "markdown",
   "metadata": {},
   "source": [
    "## The LeNet Architecture"
   ]
  },
  {
   "cell_type": "code",
   "execution_count": 1,
   "metadata": {},
   "outputs": [],
   "source": [
    "# dlframework.nn.conv.lenet.py\n",
    "\n",
    "from keras.models import Sequential\n",
    "from keras.layers.convolutional import Conv2D\n",
    "from keras.layers.convolutional import MaxPooling2D\n",
    "from keras.layers.core import Flatten\n",
    "from keras.layers.core import Dense\n",
    "from keras.layers.core import Activation\n",
    "from keras import backend as K\n"
   ]
  },
  {
   "cell_type": "code",
   "execution_count": 4,
   "metadata": {},
   "outputs": [],
   "source": [
    "class LeNet:\n",
    "    @staticmethod\n",
    "    def build( width, height, depth, classes):\n",
    "        \n",
    "        #initialize the model\n",
    "        model = Sequential()\n",
    "        inputShape = (height, width, depth)\n",
    "        \n",
    "        # if we are using \"channels first\", update the input shape\n",
    "        if K.image_data_format() == \"channel_first\":\n",
    "            inputShape = (depth, height, width)\n",
    "            \n",
    "        # first set of CONV => RELU => POOL layers\n",
    "        model.add(Conv2D(20, (5, 5), input_shape=inputShape, padding=\"same\"))\n",
    "        model.add(Activation(\"relu\"))\n",
    "        model.add(MaxPooling2D(pool_size = (2, 2), strides = (2, 2)))\n",
    "        \n",
    "        # second set of CONV => RELU => POOL layers\n",
    "        model.add(Conv2D(50, (5, 5), padding=\"same\"))\n",
    "        model.add(Activation(\"relu\"))\n",
    "        model.add(MaxPooling2D((2,2), strides=(2,2)))\n",
    "        \n",
    "        # first (and only) set of FC => RELU layers\n",
    "        model.add(Flatten())\n",
    "        model.add(Dense(500))\n",
    "        model.add(Activation(\"relu\"))\n",
    "        # softmax classifier\n",
    "        model.add(Dense(classes))\n",
    "        model.add(Activation(\"softmax\"))\n",
    "        \n",
    "        return model"
   ]
  },
  {
   "cell_type": "markdown",
   "metadata": {},
   "source": [
    "## LeNet on MNIST"
   ]
  },
  {
   "cell_type": "code",
   "execution_count": 5,
   "metadata": {},
   "outputs": [
    {
     "name": "stderr",
     "output_type": "stream",
     "text": [
      "/usr/lib/python3.5/importlib/_bootstrap.py:222: RuntimeWarning: numpy.ufunc size changed, may indicate binary incompatibility. Expected 192 from C header, got 216 from PyObject\n",
      "  return f(*args, **kwds)\n"
     ]
    }
   ],
   "source": [
    "# lenet_mnist.py\n",
    "\n",
    "from dlframework.nn.conv import LeNet\n",
    "from keras.optimizers import SGD\n",
    "from sklearn.preprocessing import LabelBinarizer\n",
    "from sklearn.model_selection import train_test_split\n",
    "from sklearn.metrics import classification_report\n",
    "from sklearn import datasets\n",
    "\n",
    "import numpy as np\n",
    "import matplotlib.pyplot as plt\n",
    "from keras import backend as K"
   ]
  },
  {
   "cell_type": "code",
   "execution_count": 9,
   "metadata": {},
   "outputs": [],
   "source": [
    "# grab the MNIST dataset\n",
    "print(\"[INFO] accessing MNIST...\")\n",
    "dataset = datasets.fetch_openml(\"mnist_784\")\n",
    "data = dataset.data\n"
   ]
  },
  {
   "cell_type": "code",
   "execution_count": 10,
   "metadata": {},
   "outputs": [
    {
     "name": "stdout",
     "output_type": "stream",
     "text": [
      "(70000, 784)\n"
     ]
    }
   ],
   "source": [
    "print(data.shape)"
   ]
  },
  {
   "cell_type": "code",
   "execution_count": 19,
   "metadata": {},
   "outputs": [],
   "source": [
    "if K.image_data_format()==\"channel_first\":\n",
    "    data = data.reshape(data.shape[0], 1, 28, 28)\n",
    "else:\n",
    "    data =data.reshape(data.shape[0], 28, 28, 1)"
   ]
  },
  {
   "cell_type": "code",
   "execution_count": 22,
   "metadata": {},
   "outputs": [],
   "source": [
    "# scale the input data to the range [0, 1] and perform a train/test split\n",
    "X_train, X_test, y_train, y_test = train_test_split(data/255.0, dataset.target.astype(\"int\"),\n",
    "                                                    test_size=0.25, random_state=42)"
   ]
  },
  {
   "cell_type": "code",
   "execution_count": 23,
   "metadata": {},
   "outputs": [],
   "source": [
    "# convert the labels from integers to vectors\n",
    "lb = LabelBinarizer()\n",
    "y_train = lb.fit_transform(y_train)\n",
    "y_test = lb.transform(y_test)"
   ]
  },
  {
   "cell_type": "code",
   "execution_count": 24,
   "metadata": {},
   "outputs": [
    {
     "name": "stdout",
     "output_type": "stream",
     "text": [
      "[INFO] compiling model...\n"
     ]
    }
   ],
   "source": [
    "print(\"[INFO] compiling model...\")\n",
    "model = LeNet.build(28, 28, 1, classes =10)\n",
    "opt = SGD(lr = 0.01)\n",
    "model.compile(loss = \"categorical_crossentropy\", optimizer = opt,\n",
    "             metrics = [\"accuracy\"])\n"
   ]
  },
  {
   "cell_type": "code",
   "execution_count": 26,
   "metadata": {},
   "outputs": [
    {
     "name": "stdout",
     "output_type": "stream",
     "text": [
      "[INFO] training the network...\n",
      "Train on 52500 samples, validate on 17500 samples\n",
      "Epoch 1/20\n",
      "52500/52500 [==============================] - 41s 780us/step - loss: 0.6415 - accuracy: 0.8462 - val_loss: 0.5524 - val_accuracy: 0.8571\n",
      "Epoch 2/20\n",
      "52500/52500 [==============================] - 44s 829us/step - loss: 0.4975 - accuracy: 0.8711 - val_loss: 0.4565 - val_accuracy: 0.8817\n",
      "Epoch 3/20\n",
      "52500/52500 [==============================] - 48s 910us/step - loss: 0.4250 - accuracy: 0.8859 - val_loss: 0.4016 - val_accuracy: 0.8942\n",
      "Epoch 4/20\n",
      "52500/52500 [==============================] - 47s 886us/step - loss: 0.3801 - accuracy: 0.8949 - val_loss: 0.3695 - val_accuracy: 0.8966\n",
      "Epoch 5/20\n",
      "52500/52500 [==============================] - 50s 944us/step - loss: 0.3489 - accuracy: 0.9024 - val_loss: 0.3417 - val_accuracy: 0.9043\n",
      "Epoch 6/20\n",
      "52500/52500 [==============================] - 52s 983us/step - loss: 0.3252 - accuracy: 0.9078 - val_loss: 0.3210 - val_accuracy: 0.9114\n",
      "Epoch 7/20\n",
      "52500/52500 [==============================] - 48s 905us/step - loss: 0.3060 - accuracy: 0.9118 - val_loss: 0.3037 - val_accuracy: 0.9136\n",
      "Epoch 8/20\n",
      "52500/52500 [==============================] - 47s 899us/step - loss: 0.2901 - accuracy: 0.9165 - val_loss: 0.2911 - val_accuracy: 0.9174\n",
      "Epoch 9/20\n",
      "52500/52500 [==============================] - 46s 878us/step - loss: 0.2765 - accuracy: 0.9197 - val_loss: 0.2771 - val_accuracy: 0.9227\n",
      "Epoch 10/20\n",
      "52500/52500 [==============================] - 47s 893us/step - loss: 0.2642 - accuracy: 0.9234 - val_loss: 0.2653 - val_accuracy: 0.9244\n",
      "Epoch 11/20\n",
      "52500/52500 [==============================] - 51s 970us/step - loss: 0.2535 - accuracy: 0.9262 - val_loss: 0.2543 - val_accuracy: 0.9267\n",
      "Epoch 12/20\n",
      "52500/52500 [==============================] - 52s 988us/step - loss: 0.2437 - accuracy: 0.9283 - val_loss: 0.2462 - val_accuracy: 0.9293\n",
      "Epoch 13/20\n",
      "52500/52500 [==============================] - 45s 865us/step - loss: 0.2345 - accuracy: 0.9314 - val_loss: 0.2386 - val_accuracy: 0.9322\n",
      "Epoch 14/20\n",
      "52500/52500 [==============================] - 50s 948us/step - loss: 0.2263 - accuracy: 0.9341 - val_loss: 0.2329 - val_accuracy: 0.9329\n",
      "Epoch 15/20\n",
      "52500/52500 [==============================] - 47s 895us/step - loss: 0.2185 - accuracy: 0.9357 - val_loss: 0.2233 - val_accuracy: 0.9354\n",
      "Epoch 16/20\n",
      "52500/52500 [==============================] - 50s 944us/step - loss: 0.2115 - accuracy: 0.9380 - val_loss: 0.2173 - val_accuracy: 0.9367\n",
      "Epoch 17/20\n",
      "52500/52500 [==============================] - 55s 1ms/step - loss: 0.2049 - accuracy: 0.9397 - val_loss: 0.2116 - val_accuracy: 0.9374\n",
      "Epoch 18/20\n",
      "52500/52500 [==============================] - 50s 950us/step - loss: 0.1988 - accuracy: 0.9416 - val_loss: 0.2043 - val_accuracy: 0.9406\n",
      "Epoch 19/20\n",
      "52500/52500 [==============================] - 50s 954us/step - loss: 0.1927 - accuracy: 0.9441 - val_loss: 0.1985 - val_accuracy: 0.9419\n",
      "Epoch 20/20\n",
      "52500/52500 [==============================] - 49s 941us/step - loss: 0.1872 - accuracy: 0.9453 - val_loss: 0.2044 - val_accuracy: 0.9417\n"
     ]
    }
   ],
   "source": [
    "print(\"[INFO] training the network...\")\n",
    "H = model.fit(X_train, y_train, validation_data=(X_test, y_test),\n",
    "          epochs = 20, batch_size=128, verbose=1)"
   ]
  },
  {
   "cell_type": "code",
   "execution_count": 28,
   "metadata": {},
   "outputs": [
    {
     "name": "stdout",
     "output_type": "stream",
     "text": [
      "[INFO] evaluating the network...\n",
      "              precision    recall  f1-score   support\n",
      "\n",
      "           0       0.97      0.97      0.97      1714\n",
      "           1       0.97      0.98      0.97      1977\n",
      "           2       0.89      0.95      0.92      1761\n",
      "           3       0.92      0.91      0.92      1806\n",
      "           4       0.93      0.95      0.94      1587\n",
      "           5       0.93      0.94      0.93      1607\n",
      "           6       0.97      0.95      0.96      1761\n",
      "           7       0.93      0.96      0.95      1878\n",
      "           8       0.95      0.90      0.93      1657\n",
      "           9       0.96      0.89      0.92      1752\n",
      "\n",
      "    accuracy                           0.94     17500\n",
      "   macro avg       0.94      0.94      0.94     17500\n",
      "weighted avg       0.94      0.94      0.94     17500\n",
      "\n"
     ]
    }
   ],
   "source": [
    "print(\"[INFO] evaluating the network...\")\n",
    "y_pred = model.predict(X_test)\n",
    "print(classification_report(y_test.argmax(axis=1),\n",
    "                           y_pred.argmax(axis=1),\n",
    "                           target_names = [str(i) for i in lb.classes_ ]))"
   ]
  },
  {
   "cell_type": "code",
   "execution_count": 29,
   "metadata": {},
   "outputs": [],
   "source": [
    "model.save(\"lenet_mnist.hdf5\")"
   ]
  },
  {
   "cell_type": "code",
   "execution_count": 31,
   "metadata": {},
   "outputs": [
    {
     "data": {
      "image/png": "[encoded data removed]",
      "text/plain": [
       "<Figure size 432x288 with 1 Axes>"
      ]
     },
     "metadata": {},
     "output_type": "display_data"
    }
   ],
   "source": [
    "# plot the training loss and accuracy\n",
    "plt.style.use(\"ggplot\")\n",
    "plt.figure()\n",
    "plt.plot(np.arange(0,20), H.history[\"loss\"], label=\"train_loss\")\n",
    "plt.plot(np.arange(0,20), H.history[\"val_loss\"], label=\"val_loss\")\n",
    "plt.plot(np.arange(0,20), H.history[\"accuracy\"], label=\"acc\")\n",
    "plt.plot(np.arange(0,20), H.history[\"val_accuracy\"], label=\"val_acc\")\n",
    "plt.title(\"Training loss/accuracy\")\n",
    "plt.xlabel(\"Epoch #\")\n",
    "plt.ylabel(\"Loss/Accuracy\")\n",
    "plt.legend()\n",
    "plt.show()"
   ]
  },
  {
   "cell_type": "code",
   "execution_count": null,
   "metadata": {},
   "outputs": [],
   "source": []
  }
 ],
 "metadata": {
  "kernelspec": {
   "display_name": "Python 3",
   "language": "python",
   "name": "python3"
  },
  "language_info": {
   "codemirror_mode": {
    "name": "ipython",
    "version": 3
   },
   "file_extension": ".py",
   "mimetype": "text/x-python",
   "name": "python",
   "nbconvert_exporter": "python",
   "pygments_lexer": "ipython3",
   "version": "3.5.2"
  }
 },
 "nbformat": 4,
 "nbformat_minor": 2
}
