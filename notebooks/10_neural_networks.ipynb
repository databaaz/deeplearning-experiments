{
 "cells": [
  {
   "cell_type": "markdown",
   "metadata": {},
   "source": [
    "# Perceptron"
   ]
  },
  {
   "cell_type": "code",
   "execution_count": 26,
   "metadata": {},
   "outputs": [],
   "source": [
    "import numpy as np"
   ]
  },
  {
   "cell_type": "code",
   "execution_count": 31,
   "metadata": {},
   "outputs": [],
   "source": [
    "# dlframework.nn.perceptron.py\n",
    "class Perceptron:\n",
    "    \n",
    "    def __init__(self, N, alpha = 0.1):\n",
    "        self.alpha = alpha\n",
    "        # initialize the weight matrix\n",
    "        self.W = np.random.randn(N + 1)/ np.sqrt(N)\n",
    "\n",
    "    def step(self, x):\n",
    "        return 1 if x > 0 else 0\n",
    "\n",
    "    def fit(self, X, y, epochs = 10):\n",
    "        # insert a column of 1’s as the last entry in the feature \n",
    "        # matrix -- this little trick allows us to treat the bias\n",
    "        #  # as a trainable parameter within the weight matrix\n",
    "        X = np.c_[X, np.ones((X.shape[0]))]\n",
    "\n",
    "        for epoch in np.arange(0, epochs):\n",
    "            # loop over each individual data point\n",
    "            for x,target in zip(X, y):\n",
    "                # take the dot product between the input features\n",
    "                #  and the weight matrix, then pass this value\n",
    "                #  through the step function to obtain the prediction\n",
    "                p = self.step(np.dot(x, self.W))\n",
    "\n",
    "                # only perform a weight update if our prediction \n",
    "                # does not match the target\n",
    "                if p != target:\n",
    "                    # determine the error\n",
    "                    error = p - target\n",
    "                    delta = - self.alpha* error *x\n",
    "\n",
    "                    # update the weight matrix\n",
    "                    self.W += delta\n",
    "\n",
    "    def predict(self, X, addBias = True):\n",
    "        # ensure our input is a matrix\n",
    "        X = np.atleast_2d(X)\n",
    "\n",
    "        if addBias:\n",
    "            X = np.c_[X, np.ones(X.shape[0])]\n",
    "\n",
    "        return self.step(np.dot(X, self.W))"
   ]
  },
  {
   "cell_type": "markdown",
   "metadata": {},
   "source": [
    "## Application on various bitwise operators\n",
    "### OR\n",
    "*perceptron_or.py*"
   ]
  },
  {
   "cell_type": "code",
   "execution_count": 34,
   "metadata": {},
   "outputs": [],
   "source": [
    "import numpy as np\n",
    "X = np.array([[0, 0], [0, 1], [1, 0], [1, 1]])\n",
    "y = np.array([[0], [1], [1], [1]])"
   ]
  },
  {
   "cell_type": "code",
   "execution_count": 35,
   "metadata": {},
   "outputs": [
    {
     "name": "stdout",
     "output_type": "stream",
     "text": [
      "[INFO] training perceptron...\n"
     ]
    }
   ],
   "source": [
    "print(\"[INFO] training perceptron...\")\n",
    "p = Perceptron(X.shape[1], alpha=0.1)\n",
    "p.fit(X, y, epochs=20)"
   ]
  },
  {
   "cell_type": "code",
   "execution_count": 38,
   "metadata": {},
   "outputs": [
    {
     "name": "stdout",
     "output_type": "stream",
     "text": [
      "[INFO] evaluating...\n",
      "[INFO] data=[0 0], ground-truth=0, pred=0\n",
      "[INFO] data=[0 1], ground-truth=1, pred=1\n",
      "[INFO] data=[1 0], ground-truth=1, pred=1\n",
      "[INFO] data=[1 1], ground-truth=1, pred=1\n"
     ]
    }
   ],
   "source": [
    "print(\"[INFO] evaluating...\")\n",
    "for (x, target) in zip(X, y):\n",
    "    pred = p.predict(x)\n",
    "    print(\"[INFO] data={}, ground-truth={}, pred={}\".format(x, target[0], pred))"
   ]
  },
  {
   "cell_type": "markdown",
   "metadata": {},
   "source": [
    "### AND\n",
    "*perceptron_and.py*"
   ]
  },
  {
   "cell_type": "code",
   "execution_count": 39,
   "metadata": {},
   "outputs": [],
   "source": [
    "import numpy as np\n",
    "X = np.array([[0, 0], [0, 1], [1, 0], [1, 1]])\n",
    "y = np.array([[0], [0], [0], [1]])"
   ]
  },
  {
   "cell_type": "code",
   "execution_count": 40,
   "metadata": {},
   "outputs": [
    {
     "name": "stdout",
     "output_type": "stream",
     "text": [
      "[INFO] training perceptron...\n"
     ]
    }
   ],
   "source": [
    "print(\"[INFO] training perceptron...\")\n",
    "p = Perceptron(X.shape[1], alpha=0.1)\n",
    "p.fit(X, y, epochs=20)"
   ]
  },
  {
   "cell_type": "code",
   "execution_count": 41,
   "metadata": {},
   "outputs": [
    {
     "name": "stdout",
     "output_type": "stream",
     "text": [
      "[INFO] evaluating...\n",
      "[INFO] data=[0 0], ground-truth=0, pred=0\n",
      "[INFO] data=[0 1], ground-truth=0, pred=0\n",
      "[INFO] data=[1 0], ground-truth=0, pred=0\n",
      "[INFO] data=[1 1], ground-truth=1, pred=1\n"
     ]
    }
   ],
   "source": [
    "print(\"[INFO] evaluating...\")\n",
    "for (x, target) in zip(X, y):\n",
    "    pred = p.predict(x)\n",
    "    print(\"[INFO] data={}, ground-truth={}, pred={}\".format(x, target[0], pred))"
   ]
  },
  {
   "cell_type": "markdown",
   "metadata": {},
   "source": [
    "### XOR\n",
    "*perceptron_xor.py*"
   ]
  },
  {
   "cell_type": "code",
   "execution_count": 42,
   "metadata": {},
   "outputs": [],
   "source": [
    "import numpy as np\n",
    "X = np.array([[0, 0], [0, 1], [1, 0], [1, 1]])\n",
    "y = np.array([[0], [1], [1], [0]])"
   ]
  },
  {
   "cell_type": "code",
   "execution_count": 43,
   "metadata": {},
   "outputs": [
    {
     "name": "stdout",
     "output_type": "stream",
     "text": [
      "[INFO] training perceptron...\n"
     ]
    }
   ],
   "source": [
    "print(\"[INFO] training perceptron...\")\n",
    "p = Perceptron(X.shape[1], alpha=0.1)\n",
    "p.fit(X, y, epochs=20)"
   ]
  },
  {
   "cell_type": "code",
   "execution_count": 44,
   "metadata": {},
   "outputs": [
    {
     "name": "stdout",
     "output_type": "stream",
     "text": [
      "[INFO] evaluating...\n",
      "[INFO] data=[0 0], ground-truth=0, pred=1\n",
      "[INFO] data=[0 1], ground-truth=1, pred=0\n",
      "[INFO] data=[1 0], ground-truth=1, pred=0\n",
      "[INFO] data=[1 1], ground-truth=0, pred=0\n"
     ]
    }
   ],
   "source": [
    "print(\"[INFO] evaluating...\")\n",
    "for (x, target) in zip(X, y):\n",
    "    pred = p.predict(x)\n",
    "    print(\"[INFO] data={}, ground-truth={}, pred={}\".format(x, target[0], pred))"
   ]
  },
  {
   "cell_type": "markdown",
   "metadata": {},
   "source": [
    "# Neural Network implementation"
   ]
  },
  {
   "cell_type": "code",
   "execution_count": 1,
   "metadata": {},
   "outputs": [],
   "source": [
    "import numpy as np"
   ]
  },
  {
   "cell_type": "code",
   "execution_count": 2,
   "metadata": {},
   "outputs": [],
   "source": [
    "# dlframework.nn.neuralnetwork.py\n",
    "class NeuralNetwork:\n",
    "    def __init__(self, layers, alpha = 0.1):\n",
    "        self.W = []\n",
    "        self.layers = layers\n",
    "        self.alpha = alpha\n",
    "        \n",
    "        \n",
    "        for i in range(0, len(layers)-2):\n",
    "            \n",
    "            w = np.random.randn(layers[i]+1, layers[i+1]+1)\n",
    "            self.W.append(w / np.sqrt(layers[i])) # normalizing the variance of each neuron's output\n",
    "            \n",
    "        w = np.random.randn(layers[-2]+1, layers[-1])\n",
    "        self.W.append(w/np.sqrt(layers[-2]))\n",
    "        \n",
    "        def __repr__(self):\n",
    "            return \"NeuralNetwork: {}\".format(\n",
    "                \"-\".join([str(i) for i in self.layers]))\n",
    "        \n",
    "        \n",
    "    def sigmoid(self, x):\n",
    "        return 1.0 / (1+np.exp(-x))\n",
    "    \n",
    "    def sigmoid_derv(self, y):\n",
    "        # compute the derivative of the sigmoid function ASSUMING\n",
    "        # that ‘y‘ has already been passed through the ‘sigmoid‘ function\n",
    "        return y * (1 - y)\n",
    "    \n",
    "    def fit(self, X, y, epochs = 1000, displayUpdate=100):\n",
    "        # insert a column of 1’s as the last entry in the feature\n",
    "        # matrix -- this little trick allows us to treat the bias\n",
    "        # as a trainable parameter within the weight matrix\n",
    "        X = np.c_[X, np.ones(X.shape[0])]\n",
    "        \n",
    "        for epoch in np.arange(0, epochs):\n",
    "            # loop over each individual data point and train\n",
    "            # our network on it\n",
    "            for (x, target) in zip(X, y):\n",
    "                self.fit_partial(x, target)\n",
    "                \n",
    "            if epoch == 0 or (epoch + 1)%displayUpdate == 0:\n",
    "                loss = self.calculate_loss(X, y)\n",
    "                print (\"[INFO] epoch {}: loss = {:.7f}\".format(\n",
    "                                            epoch+1, loss))\n",
    "                \n",
    "                \n",
    "    def fit_partial(self, x, y):\n",
    "        # construct our list of output activations for each layer\n",
    "        # as our data point flows through the network; the first\n",
    "        # activation is a special case -- it’s just the input\n",
    "        # feature vector itself\n",
    "        \n",
    "        A = [np.atleast_2d(x)]\n",
    "        \n",
    "        for layer in np.arange(0, len(self.W)):\n",
    "            # feedforward the activation at the current layer by\n",
    "            # taking the dot product between the activation and\n",
    "            # the weight matrix -- this is called the \"net input\"\n",
    "            # to the current layer\n",
    "            net = A[layer].dot(self.W[layer])\n",
    "            \n",
    "            # computing the \"net output\" is simply applying our\n",
    "            # nonlinear activation function to the net input\n",
    "            out = self.sigmoid(net)\n",
    "            \n",
    "            A.append(out)\n",
    "            \n",
    "            # BACKPROPAGATION\n",
    "            # the first phase of backpropagation is to compute the\n",
    "            # difference between our *prediction* (the final output\n",
    "            # activation in the activations list) and the true target value\n",
    "            \n",
    "        error = A[-1] - y\n",
    "        # from here, we need to apply the chain rule and build our\n",
    "        # list of deltas ‘D‘; the first entry in the deltas is\n",
    "        # simply the error of the output layer times the derivative\n",
    "        # of our activation function for the output value\n",
    "        D = [error * self.sigmoid_derv(A[-1])]\n",
    "        for layer in np.arange(len(A) - 2, 0 , -1):\n",
    "            # the delta for the current layer is equal to the delta\n",
    "            # of the *previous layer* dotted with the weight matrix\n",
    "            # of the current layer, followed by multiplying the delta\n",
    "            # by the derivative of the nonlinear activation function\n",
    "            # for the activations of the current layer\n",
    "            delta = D[-1].dot(self.W[layer].T)\n",
    "            delta = delta * self.sigmoid_derv(A[layer])\n",
    "            D.append(delta)\n",
    "\n",
    "        # since we looped over our layers in reverse order we need to reverse the deltas\n",
    "        D = D[::-1]\n",
    "\n",
    "        # WEIGHT UPDATE PHASE\n",
    "        for layer in np.arange(0, len(self.W)):\n",
    "            # update our weights by taking the dot product of the layer\n",
    "            # activations with their respective deltas, then multiplying\n",
    "            # this value by some small learning rate and adding to our\n",
    "            # weight matrix -- this is where the actual \"learning\" takes place\n",
    "            self.W[layer] += -self.alpha*A[layer].T.dot(D[layer])\n",
    "                \n",
    "                \n",
    "    def predict(self, X, addBias = True):\n",
    "        # initialize the output prediction as the input features -- this\n",
    "        # value will be (forward) propagated through the network to\n",
    "        # obtain the final prediction\n",
    "        p = np.atleast_2d(X)\n",
    "        \n",
    "        if addBias:\n",
    "            p = np.c_[p, np.ones(p.shape[0])]\n",
    "            \n",
    "        for layer in np.arange(0, len(self.W)):\n",
    "            # computing the output prediction is as simple as taking\n",
    "            # the dot product between the current activation value ‘p‘\n",
    "            # and the weight matrix associated with the current layer,\n",
    "            # then passing this value through a nonlinear activation function\n",
    "            p = self.sigmoid(np.dot(p,self.W[layer]))\n",
    "            \n",
    "        return p\n",
    "    \n",
    "    \n",
    "    def calculate_loss(self, X, targets):\n",
    "        targets = np.atleast_2d(targets)\n",
    "        preds  = self.predict(X, addBias=False)\n",
    "        loss = 0.5 * np.sum((preds - targets)**2)\n",
    "        \n",
    "        return loss\n",
    "                \n",
    "        \n",
    "    \n",
    "    "
   ]
  },
  {
   "cell_type": "markdown",
   "metadata": {},
   "source": [
    "## Application on XOR"
   ]
  },
  {
   "cell_type": "code",
   "execution_count": 24,
   "metadata": {},
   "outputs": [],
   "source": [
    "X = np.array([[0, 0], [0, 1], [1, 0], [1, 1]])\n",
    "y = np.array([[0], [1], [1], [0]])"
   ]
  },
  {
   "cell_type": "code",
   "execution_count": 25,
   "metadata": {},
   "outputs": [
    {
     "name": "stdout",
     "output_type": "stream",
     "text": [
      "[INFO] epoch 1: loss = 0.5334347\n",
      "[INFO] epoch 100: loss = 0.4995036\n",
      "[INFO] epoch 200: loss = 0.4963543\n",
      "[INFO] epoch 300: loss = 0.4899225\n",
      "[INFO] epoch 400: loss = 0.4711093\n",
      "[INFO] epoch 500: loss = 0.4227161\n",
      "[INFO] epoch 600: loss = 0.3412286\n",
      "[INFO] epoch 700: loss = 0.2223304\n",
      "[INFO] epoch 800: loss = 0.1117730\n",
      "[INFO] epoch 900: loss = 0.0580254\n",
      "[INFO] epoch 1000: loss = 0.0349988\n",
      "[INFO] epoch 1100: loss = 0.0237725\n",
      "[INFO] epoch 1200: loss = 0.0175059\n",
      "[INFO] epoch 1300: loss = 0.0136293\n",
      "[INFO] epoch 1400: loss = 0.0110426\n",
      "[INFO] epoch 1500: loss = 0.0092157\n",
      "[INFO] epoch 1600: loss = 0.0078677\n",
      "[INFO] epoch 1700: loss = 0.0068383\n",
      "[INFO] epoch 1800: loss = 0.0060300\n",
      "[INFO] epoch 1900: loss = 0.0053806\n",
      "[INFO] epoch 2000: loss = 0.0048490\n"
     ]
    }
   ],
   "source": [
    "nn = NeuralNetwork([2,2,1], alpha = 0.5)\n",
    "nn.fit(X, y, epochs = 2000)"
   ]
  },
  {
   "cell_type": "code",
   "execution_count": 29,
   "metadata": {},
   "outputs": [
    {
     "name": "stdout",
     "output_type": "stream",
     "text": [
      "[INFO] data=[0 0], ground-truth=0, pred=0.0479, step=0\n",
      "[INFO] data=[0 1], ground-truth=1, pred=0.9531, step=1\n",
      "[INFO] data=[1 0], ground-truth=1, pred=0.9531, step=1\n",
      "[INFO] data=[1 1], ground-truth=0, pred=0.0548, step=0\n"
     ]
    }
   ],
   "source": [
    "for x, target in zip(X, y):\n",
    "    pred= nn.predict(x)[0][0]\n",
    "    step = 1 if pred > 0.5 else 0\n",
    "    print(\"[INFO] data={}, ground-truth={}, pred={:.4f}, step={}\".format(\n",
    "                    x, target[0], pred, step))"
   ]
  },
  {
   "cell_type": "code",
   "execution_count": 31,
   "metadata": {},
   "outputs": [
    {
     "name": "stdout",
     "output_type": "stream",
     "text": [
      "[INFO] epoch 1: loss = 0.5530475\n",
      "[INFO] epoch 100: loss = 0.5023417\n",
      "[INFO] epoch 200: loss = 0.5009645\n",
      "[INFO] epoch 300: loss = 0.5008183\n",
      "[INFO] epoch 400: loss = 0.5007975\n",
      "[INFO] epoch 500: loss = 0.5007944\n",
      "[INFO] epoch 600: loss = 0.5007939\n",
      "[INFO] epoch 700: loss = 0.5007938\n",
      "[INFO] epoch 800: loss = 0.5007938\n",
      "[INFO] epoch 900: loss = 0.5007938\n",
      "[INFO] epoch 1000: loss = 0.5007938\n",
      "[INFO] epoch 1100: loss = 0.5007938\n",
      "[INFO] epoch 1200: loss = 0.5007938\n",
      "[INFO] epoch 1300: loss = 0.5007938\n",
      "[INFO] epoch 1400: loss = 0.5007938\n",
      "[INFO] epoch 1500: loss = 0.5007938\n",
      "[INFO] epoch 1600: loss = 0.5007938\n",
      "[INFO] epoch 1700: loss = 0.5007938\n",
      "[INFO] epoch 1800: loss = 0.5007938\n",
      "[INFO] epoch 1900: loss = 0.5007938\n",
      "[INFO] epoch 2000: loss = 0.5007938\n",
      "[INFO] data=[0 0], ground-truth=0, pred=0.5161, step=1\n",
      "[INFO] data=[0 1], ground-truth=1, pred=0.5000, step=1\n",
      "[INFO] data=[1 0], ground-truth=1, pred=0.4839, step=0\n",
      "[INFO] data=[1 1], ground-truth=0, pred=0.4678, step=0\n"
     ]
    }
   ],
   "source": [
    "### If we change it to 2-1 architecture, won't learn the non-linearity\n",
    "nn = NeuralNetwork([2,1], alpha = 0.5)\n",
    "nn.fit(X, y, epochs = 2000)\n",
    "for x, target in zip(X, y):\n",
    "    pred= nn.predict(x)[0][0]\n",
    "    step = 1 if pred > 0.5 else 0\n",
    "    print(\"[INFO] data={}, ground-truth={}, pred={:.4f}, step={}\".format(\n",
    "                    x, target[0], pred, step))"
   ]
  },
  {
   "cell_type": "markdown",
   "metadata": {},
   "source": [
    "## Application on MNIST"
   ]
  },
  {
   "cell_type": "code",
   "execution_count": 3,
   "metadata": {},
   "outputs": [],
   "source": [
    "from sklearn.datasets import load_digits\n",
    "from sklearn.model_selection import train_test_split\n",
    "from sklearn.preprocessing import LabelBinarizer #OH encoding\n",
    "from sklearn.metrics import classification_report"
   ]
  },
  {
   "cell_type": "code",
   "execution_count": 16,
   "metadata": {},
   "outputs": [
    {
     "name": "stdout",
     "output_type": "stream",
     "text": [
      "[INFO] loading MNIST (sample) dataset...\n",
      "[INFO] samples=1797, dim= 64\n"
     ]
    }
   ],
   "source": [
    "# load the MNIST dataset and apply min/max scaling to scale the\n",
    "# pixel intensity values to the range [0, 1] (each image is\n",
    "# represented by an 8 x 8 = 64-dim feature vector)\n",
    "\n",
    "print(\"[INFO] loading MNIST (sample) dataset...\")\n",
    "digits = load_digits()\n",
    "data = digits.data.astype(\"float\")\n",
    "data = (data - data.min())/(data.max() - data.min())\n",
    "print(\"[INFO] samples={}, dim= {}\".format(data.shape[0], data.shape[1]))"
   ]
  },
  {
   "cell_type": "code",
   "execution_count": 17,
   "metadata": {},
   "outputs": [],
   "source": [
    "X_train, X_test, y_train, y_test = train_test_split(data, digits.target, test_size=0.25)"
   ]
  },
  {
   "cell_type": "code",
   "execution_count": 19,
   "metadata": {},
   "outputs": [],
   "source": [
    "le = LabelBinarizer()\n",
    "y_train = le.fit_transform(y_train)\n",
    "y_test = le.fit_transform(y_test)"
   ]
  },
  {
   "cell_type": "code",
   "execution_count": 22,
   "metadata": {},
   "outputs": [
    {
     "name": "stdout",
     "output_type": "stream",
     "text": [
      "[INFO] training network\n",
      "[INFO] <__main__.NeuralNetwork object at 0x7f401096aa20>\n",
      "[INFO] epoch 1: loss = 606.0808841\n",
      "[INFO] epoch 100: loss = 7.6238250\n",
      "[INFO] epoch 200: loss = 3.6009606\n",
      "[INFO] epoch 300: loss = 2.9854417\n",
      "[INFO] epoch 400: loss = 2.5182484\n",
      "[INFO] epoch 500: loss = 2.3294293\n",
      "[INFO] epoch 600: loss = 2.2467080\n",
      "[INFO] epoch 700: loss = 2.1975295\n",
      "[INFO] epoch 800: loss = 2.1644659\n",
      "[INFO] epoch 900: loss = 2.1405562\n",
      "[INFO] epoch 1000: loss = 2.1222105\n"
     ]
    }
   ],
   "source": [
    "print(\"[INFO] training network\")\n",
    "nn = NeuralNetwork([X_train.shape[1], 32, 16, 10])\n",
    "print(\"[INFO] {}\".format(nn))\n",
    "nn.fit(X_train, y_train, epochs=1000)"
   ]
  },
  {
   "cell_type": "code",
   "execution_count": 25,
   "metadata": {},
   "outputs": [
    {
     "name": "stdout",
     "output_type": "stream",
     "text": [
      "[INFO] evaluating our model\n",
      "              precision    recall  f1-score   support\n",
      "\n",
      "           0       1.00      0.98      0.99        49\n",
      "           1       0.98      0.98      0.98        44\n",
      "           2       0.98      0.98      0.98        41\n",
      "           3       0.94      0.98      0.96        51\n",
      "           4       0.90      1.00      0.95        43\n",
      "           5       1.00      0.96      0.98        51\n",
      "           6       1.00      0.97      0.99        38\n",
      "           7       1.00      0.96      0.98        45\n",
      "           8       1.00      0.95      0.98        42\n",
      "           9       0.98      1.00      0.99        46\n",
      "\n",
      "    accuracy                           0.98       450\n",
      "   macro avg       0.98      0.98      0.98       450\n",
      "weighted avg       0.98      0.98      0.98       450\n",
      "\n"
     ]
    }
   ],
   "source": [
    "print(\"[INFO] evaluating our model\")\n",
    "preds = nn.predict(X_test)\n",
    "preds = preds.argmax( axis = 1)\n",
    "print(classification_report(y_test.argmax(axis=1), preds))"
   ]
  },
  {
   "cell_type": "markdown",
   "metadata": {},
   "source": [
    "# Multi-layer Network with Keras"
   ]
  },
  {
   "cell_type": "markdown",
   "metadata": {},
   "source": [
    "## MNIST\n",
    "*keras_mnist.py*"
   ]
  },
  {
   "cell_type": "code",
   "execution_count": 46,
   "metadata": {},
   "outputs": [],
   "source": [
    "from sklearn.preprocessing import LabelBinarizer\n",
    "from sklearn.metrics import classification_report\n",
    "from sklearn.model_selection import train_test_split\n",
    "\n",
    "from keras.models import Sequential\n",
    "from keras.layers.core import Dense\n",
    "from keras.optimizers import SGD\n",
    "\n",
    "import numpy as np\n",
    "import matplotlib.pyplot as plt\n",
    "\n",
    "from sklearn import datasets "
   ]
  },
  {
   "cell_type": "code",
   "execution_count": 50,
   "metadata": {},
   "outputs": [
    {
     "name": "stdout",
     "output_type": "stream",
     "text": [
      "[INFO] Loading MNIST data...\n"
     ]
    }
   ],
   "source": [
    "print(\"[INFO] Loading MNIST data...\")\n",
    "mnist = datasets.fetch_openml(\"mnist_784\")\n",
    "data = mnist.data.astype(\"float\")\n",
    "# scale the raw pixel intensities to the range [0, 1.0]\n",
    "data = data/ 255.0"
   ]
  },
  {
   "cell_type": "code",
   "execution_count": 51,
   "metadata": {},
   "outputs": [],
   "source": [
    "X_train, X_test, y_train, y_test = train_test_split(data, mnist.target, test_size = 0.25)"
   ]
  },
  {
   "cell_type": "code",
   "execution_count": 52,
   "metadata": {},
   "outputs": [],
   "source": [
    "lb = LabelBinarizer()\n",
    "y_train = lb.fit_transform(y_train)\n",
    "y_test = lb.fit_transform(y_test)"
   ]
  },
  {
   "cell_type": "code",
   "execution_count": 54,
   "metadata": {},
   "outputs": [],
   "source": [
    "# define the 784-256-128-10 architecture using Keras\n",
    "model = Sequential()\n",
    "model.add(Dense(256, input_shape=(784,), activation=\"sigmoid\"))\n",
    "model.add(Dense(128, activation=\"sigmoid\"))\n",
    "model.add(Dense(10, activation=\"softmax\"))"
   ]
  },
  {
   "cell_type": "code",
   "execution_count": 55,
   "metadata": {},
   "outputs": [
    {
     "name": "stdout",
     "output_type": "stream",
     "text": [
      "Train on 52500 samples, validate on 17500 samples\n",
      "Epoch 1/100\n",
      "52500/52500 [==============================] - 2s 42us/step - loss: 2.2856 - accuracy: 0.1933 - val_loss: 2.2452 - val_accuracy: 0.1737\n",
      "Epoch 2/100\n",
      "52500/52500 [==============================] - 2s 33us/step - loss: 2.2171 - accuracy: 0.3731 - val_loss: 2.1848 - val_accuracy: 0.4226\n",
      "Epoch 3/100\n",
      "52500/52500 [==============================] - 2s 32us/step - loss: 2.1471 - accuracy: 0.4988 - val_loss: 2.1052 - val_accuracy: 0.6154\n",
      "Epoch 4/100\n",
      "52500/52500 [==============================] - 2s 35us/step - loss: 2.0507 - accuracy: 0.5934 - val_loss: 1.9895 - val_accuracy: 0.6227\n",
      "Epoch 5/100\n",
      "52500/52500 [==============================] - 2s 39us/step - loss: 1.9156 - accuracy: 0.6362 - val_loss: 1.8323 - val_accuracy: 0.6342\n",
      "Epoch 6/100\n",
      "52500/52500 [==============================] - 2s 40us/step - loss: 1.7394 - accuracy: 0.6743 - val_loss: 1.6407 - val_accuracy: 0.6854\n",
      "Epoch 7/100\n",
      "52500/52500 [==============================] - 2s 39us/step - loss: 1.5405 - accuracy: 0.7054 - val_loss: 1.4420 - val_accuracy: 0.7183\n",
      "Epoch 8/100\n",
      "52500/52500 [==============================] - 2s 39us/step - loss: 1.3492 - accuracy: 0.7340 - val_loss: 1.2640 - val_accuracy: 0.7572\n",
      "Epoch 9/100\n",
      "52500/52500 [==============================] - 2s 39us/step - loss: 1.1863 - accuracy: 0.7587 - val_loss: 1.1192 - val_accuracy: 0.7620\n",
      "Epoch 10/100\n",
      "52500/52500 [==============================] - 2s 40us/step - loss: 1.0561 - accuracy: 0.7743 - val_loss: 1.0054 - val_accuracy: 0.7753\n",
      "Epoch 11/100\n",
      "52500/52500 [==============================] - 2s 39us/step - loss: 0.9532 - accuracy: 0.7887 - val_loss: 0.9146 - val_accuracy: 0.7963\n",
      "Epoch 12/100\n",
      "52500/52500 [==============================] - 2s 39us/step - loss: 0.8708 - accuracy: 0.8027 - val_loss: 0.8416 - val_accuracy: 0.8039\n",
      "Epoch 13/100\n",
      "52500/52500 [==============================] - 2s 40us/step - loss: 0.8039 - accuracy: 0.8141 - val_loss: 0.7829 - val_accuracy: 0.8101\n",
      "Epoch 14/100\n",
      "52500/52500 [==============================] - 2s 39us/step - loss: 0.7487 - accuracy: 0.8227 - val_loss: 0.7319 - val_accuracy: 0.8258\n",
      "Epoch 15/100\n",
      "52500/52500 [==============================] - 2s 39us/step - loss: 0.7026 - accuracy: 0.8315 - val_loss: 0.6901 - val_accuracy: 0.8331\n",
      "Epoch 16/100\n",
      "52500/52500 [==============================] - 2s 39us/step - loss: 0.6635 - accuracy: 0.8382 - val_loss: 0.6549 - val_accuracy: 0.8379\n",
      "Epoch 17/100\n",
      "52500/52500 [==============================] - 2s 39us/step - loss: 0.6301 - accuracy: 0.8440 - val_loss: 0.6252 - val_accuracy: 0.8429\n",
      "Epoch 18/100\n",
      "52500/52500 [==============================] - 2s 41us/step - loss: 0.6014 - accuracy: 0.8498 - val_loss: 0.5981 - val_accuracy: 0.8486\n",
      "Epoch 19/100\n",
      "52500/52500 [==============================] - 2s 42us/step - loss: 0.5763 - accuracy: 0.8544 - val_loss: 0.5754 - val_accuracy: 0.8505\n",
      "Epoch 20/100\n",
      "52500/52500 [==============================] - 2s 42us/step - loss: 0.5545 - accuracy: 0.8589 - val_loss: 0.5555 - val_accuracy: 0.8544\n",
      "Epoch 21/100\n",
      "52500/52500 [==============================] - 2s 39us/step - loss: 0.5351 - accuracy: 0.8624 - val_loss: 0.5374 - val_accuracy: 0.8587\n",
      "Epoch 22/100\n",
      "52500/52500 [==============================] - 2s 40us/step - loss: 0.5179 - accuracy: 0.8658 - val_loss: 0.5212 - val_accuracy: 0.8618\n",
      "Epoch 23/100\n",
      "52500/52500 [==============================] - 2s 40us/step - loss: 0.5025 - accuracy: 0.8691 - val_loss: 0.5075 - val_accuracy: 0.8650\n",
      "Epoch 24/100\n",
      "52500/52500 [==============================] - 2s 39us/step - loss: 0.4887 - accuracy: 0.8721 - val_loss: 0.4951 - val_accuracy: 0.8654\n",
      "Epoch 25/100\n",
      "52500/52500 [==============================] - 2s 39us/step - loss: 0.4762 - accuracy: 0.8749 - val_loss: 0.4826 - val_accuracy: 0.8697\n",
      "Epoch 26/100\n",
      "52500/52500 [==============================] - 2s 39us/step - loss: 0.4649 - accuracy: 0.8772 - val_loss: 0.4722 - val_accuracy: 0.8711\n",
      "Epoch 27/100\n",
      "52500/52500 [==============================] - 2s 39us/step - loss: 0.4546 - accuracy: 0.8793 - val_loss: 0.4629 - val_accuracy: 0.8733\n",
      "Epoch 28/100\n",
      "52500/52500 [==============================] - 2s 35us/step - loss: 0.4451 - accuracy: 0.8815 - val_loss: 0.4545 - val_accuracy: 0.8749\n",
      "Epoch 29/100\n",
      "52500/52500 [==============================] - 2s 39us/step - loss: 0.4365 - accuracy: 0.8831 - val_loss: 0.4457 - val_accuracy: 0.8783\n",
      "Epoch 30/100\n",
      "52500/52500 [==============================] - 2s 39us/step - loss: 0.4286 - accuracy: 0.8848 - val_loss: 0.4388 - val_accuracy: 0.8795\n",
      "Epoch 31/100\n",
      "52500/52500 [==============================] - 2s 39us/step - loss: 0.4213 - accuracy: 0.8856 - val_loss: 0.4315 - val_accuracy: 0.8814\n",
      "Epoch 32/100\n",
      "52500/52500 [==============================] - 2s 40us/step - loss: 0.4145 - accuracy: 0.8878 - val_loss: 0.4250 - val_accuracy: 0.8827\n",
      "Epoch 33/100\n",
      "52500/52500 [==============================] - 2s 39us/step - loss: 0.4083 - accuracy: 0.8887 - val_loss: 0.4189 - val_accuracy: 0.8846\n",
      "Epoch 34/100\n",
      "52500/52500 [==============================] - 2s 39us/step - loss: 0.4024 - accuracy: 0.8900 - val_loss: 0.4138 - val_accuracy: 0.8855\n",
      "Epoch 35/100\n",
      "52500/52500 [==============================] - 2s 40us/step - loss: 0.3969 - accuracy: 0.8913 - val_loss: 0.4084 - val_accuracy: 0.8866\n",
      "Epoch 36/100\n",
      "52500/52500 [==============================] - 2s 35us/step - loss: 0.3919 - accuracy: 0.8918 - val_loss: 0.4037 - val_accuracy: 0.8874\n",
      "Epoch 37/100\n",
      "52500/52500 [==============================] - 2s 38us/step - loss: 0.3871 - accuracy: 0.8935 - val_loss: 0.3997 - val_accuracy: 0.8886\n",
      "Epoch 38/100\n",
      "52500/52500 [==============================] - 2s 34us/step - loss: 0.3826 - accuracy: 0.8944 - val_loss: 0.3949 - val_accuracy: 0.8895\n",
      "Epoch 39/100\n",
      "52500/52500 [==============================] - 2s 39us/step - loss: 0.3783 - accuracy: 0.8955 - val_loss: 0.3915 - val_accuracy: 0.8898\n",
      "Epoch 40/100\n",
      "52500/52500 [==============================] - 2s 38us/step - loss: 0.3744 - accuracy: 0.8963 - val_loss: 0.3870 - val_accuracy: 0.8909\n",
      "Epoch 41/100\n",
      "52500/52500 [==============================] - 2s 38us/step - loss: 0.3706 - accuracy: 0.8970 - val_loss: 0.3839 - val_accuracy: 0.8926\n",
      "Epoch 42/100\n",
      "52500/52500 [==============================] - 2s 39us/step - loss: 0.3671 - accuracy: 0.8980 - val_loss: 0.3799 - val_accuracy: 0.8925\n",
      "Epoch 43/100\n",
      "52500/52500 [==============================] - 2s 39us/step - loss: 0.3636 - accuracy: 0.8982 - val_loss: 0.3771 - val_accuracy: 0.8923\n",
      "Epoch 44/100\n",
      "52500/52500 [==============================] - 2s 39us/step - loss: 0.3604 - accuracy: 0.8991 - val_loss: 0.3738 - val_accuracy: 0.8942\n",
      "Epoch 45/100\n",
      "52500/52500 [==============================] - 2s 39us/step - loss: 0.3573 - accuracy: 0.9003 - val_loss: 0.3712 - val_accuracy: 0.8940\n",
      "Epoch 46/100\n",
      "52500/52500 [==============================] - 2s 40us/step - loss: 0.3543 - accuracy: 0.9006 - val_loss: 0.3685 - val_accuracy: 0.8947\n",
      "Epoch 47/100\n",
      "52500/52500 [==============================] - 2s 39us/step - loss: 0.3515 - accuracy: 0.9010 - val_loss: 0.3656 - val_accuracy: 0.8960\n",
      "Epoch 48/100\n",
      "52500/52500 [==============================] - 2s 35us/step - loss: 0.3488 - accuracy: 0.9021 - val_loss: 0.3628 - val_accuracy: 0.8964\n",
      "Epoch 49/100\n",
      "52500/52500 [==============================] - 2s 38us/step - loss: 0.3461 - accuracy: 0.9026 - val_loss: 0.3609 - val_accuracy: 0.8966\n",
      "Epoch 50/100\n",
      "52500/52500 [==============================] - 2s 38us/step - loss: 0.3437 - accuracy: 0.9033 - val_loss: 0.3587 - val_accuracy: 0.8974\n",
      "Epoch 51/100\n",
      "52500/52500 [==============================] - 2s 38us/step - loss: 0.3412 - accuracy: 0.9038 - val_loss: 0.3562 - val_accuracy: 0.8979\n",
      "Epoch 52/100\n",
      "52500/52500 [==============================] - 2s 39us/step - loss: 0.3389 - accuracy: 0.9046 - val_loss: 0.3535 - val_accuracy: 0.8989\n",
      "Epoch 53/100\n",
      "52500/52500 [==============================] - 2s 39us/step - loss: 0.3367 - accuracy: 0.9048 - val_loss: 0.3513 - val_accuracy: 0.8990\n",
      "Epoch 54/100\n",
      "52500/52500 [==============================] - 2s 37us/step - loss: 0.3345 - accuracy: 0.9051 - val_loss: 0.3495 - val_accuracy: 0.8991\n",
      "Epoch 55/100\n",
      "52500/52500 [==============================] - 2s 36us/step - loss: 0.3324 - accuracy: 0.9057 - val_loss: 0.3474 - val_accuracy: 0.8988\n"
     ]
    },
    {
     "name": "stdout",
     "output_type": "stream",
     "text": [
      "Epoch 56/100\n",
      "52500/52500 [==============================] - 2s 39us/step - loss: 0.3303 - accuracy: 0.9063 - val_loss: 0.3456 - val_accuracy: 0.9002\n",
      "Epoch 57/100\n",
      "52500/52500 [==============================] - 2s 39us/step - loss: 0.3284 - accuracy: 0.9071 - val_loss: 0.3440 - val_accuracy: 0.9008\n",
      "Epoch 58/100\n",
      "52500/52500 [==============================] - 2s 39us/step - loss: 0.3265 - accuracy: 0.9075 - val_loss: 0.3417 - val_accuracy: 0.9010\n",
      "Epoch 59/100\n",
      "52500/52500 [==============================] - 2s 38us/step - loss: 0.3245 - accuracy: 0.9077 - val_loss: 0.3405 - val_accuracy: 0.9005\n",
      "Epoch 60/100\n",
      "52500/52500 [==============================] - 2s 39us/step - loss: 0.3227 - accuracy: 0.9082 - val_loss: 0.3383 - val_accuracy: 0.9010\n",
      "Epoch 61/100\n",
      "52500/52500 [==============================] - 2s 39us/step - loss: 0.3209 - accuracy: 0.9093 - val_loss: 0.3373 - val_accuracy: 0.9013\n",
      "Epoch 62/100\n",
      "52500/52500 [==============================] - 2s 39us/step - loss: 0.3192 - accuracy: 0.9096 - val_loss: 0.3351 - val_accuracy: 0.9019\n",
      "Epoch 63/100\n",
      "52500/52500 [==============================] - 2s 39us/step - loss: 0.3176 - accuracy: 0.9098 - val_loss: 0.3339 - val_accuracy: 0.9019\n",
      "Epoch 64/100\n",
      "52500/52500 [==============================] - 2s 39us/step - loss: 0.3159 - accuracy: 0.9104 - val_loss: 0.3322 - val_accuracy: 0.9024\n",
      "Epoch 65/100\n",
      "52500/52500 [==============================] - 2s 38us/step - loss: 0.3144 - accuracy: 0.9110 - val_loss: 0.3305 - val_accuracy: 0.9034\n",
      "Epoch 66/100\n",
      "52500/52500 [==============================] - 2s 38us/step - loss: 0.3127 - accuracy: 0.9114 - val_loss: 0.3294 - val_accuracy: 0.9035\n",
      "Epoch 67/100\n",
      "52500/52500 [==============================] - 2s 39us/step - loss: 0.3113 - accuracy: 0.9118 - val_loss: 0.3279 - val_accuracy: 0.9033\n",
      "Epoch 68/100\n",
      "52500/52500 [==============================] - 2s 38us/step - loss: 0.3098 - accuracy: 0.9122 - val_loss: 0.3265 - val_accuracy: 0.9034\n",
      "Epoch 69/100\n",
      "52500/52500 [==============================] - 2s 38us/step - loss: 0.3083 - accuracy: 0.9124 - val_loss: 0.3252 - val_accuracy: 0.9041\n",
      "Epoch 70/100\n",
      "52500/52500 [==============================] - 2s 38us/step - loss: 0.3069 - accuracy: 0.9130 - val_loss: 0.3236 - val_accuracy: 0.9036\n",
      "Epoch 71/100\n",
      "52500/52500 [==============================] - 2s 38us/step - loss: 0.3055 - accuracy: 0.9133 - val_loss: 0.3228 - val_accuracy: 0.9041\n",
      "Epoch 72/100\n",
      "52500/52500 [==============================] - 2s 39us/step - loss: 0.3041 - accuracy: 0.9132 - val_loss: 0.3216 - val_accuracy: 0.9041\n",
      "Epoch 73/100\n",
      "52500/52500 [==============================] - 2s 39us/step - loss: 0.3028 - accuracy: 0.9139 - val_loss: 0.3206 - val_accuracy: 0.9047\n",
      "Epoch 74/100\n",
      "52500/52500 [==============================] - 2s 34us/step - loss: 0.3015 - accuracy: 0.9141 - val_loss: 0.3188 - val_accuracy: 0.9056\n",
      "Epoch 75/100\n",
      "52500/52500 [==============================] - 2s 37us/step - loss: 0.3002 - accuracy: 0.9142 - val_loss: 0.3178 - val_accuracy: 0.9060\n",
      "Epoch 76/100\n",
      "52500/52500 [==============================] - 2s 38us/step - loss: 0.2990 - accuracy: 0.9146 - val_loss: 0.3164 - val_accuracy: 0.9066\n",
      "Epoch 77/100\n",
      "52500/52500 [==============================] - 2s 38us/step - loss: 0.2977 - accuracy: 0.9146 - val_loss: 0.3156 - val_accuracy: 0.9066\n",
      "Epoch 78/100\n",
      "52500/52500 [==============================] - 2s 39us/step - loss: 0.2965 - accuracy: 0.9152 - val_loss: 0.3146 - val_accuracy: 0.9064\n",
      "Epoch 79/100\n",
      "52500/52500 [==============================] - 2s 39us/step - loss: 0.2953 - accuracy: 0.9154 - val_loss: 0.3133 - val_accuracy: 0.9064\n",
      "Epoch 80/100\n",
      "52500/52500 [==============================] - 2s 38us/step - loss: 0.2942 - accuracy: 0.9159 - val_loss: 0.3122 - val_accuracy: 0.9079\n",
      "Epoch 81/100\n",
      "52500/52500 [==============================] - 2s 39us/step - loss: 0.2930 - accuracy: 0.9164 - val_loss: 0.3114 - val_accuracy: 0.9078\n",
      "Epoch 82/100\n",
      "52500/52500 [==============================] - 2s 38us/step - loss: 0.2918 - accuracy: 0.9167 - val_loss: 0.3099 - val_accuracy: 0.9086\n",
      "Epoch 83/100\n",
      "52500/52500 [==============================] - 2s 38us/step - loss: 0.2907 - accuracy: 0.9170 - val_loss: 0.3092 - val_accuracy: 0.9081\n",
      "Epoch 84/100\n",
      "52500/52500 [==============================] - 2s 38us/step - loss: 0.2897 - accuracy: 0.9171 - val_loss: 0.3082 - val_accuracy: 0.9087\n",
      "Epoch 85/100\n",
      "52500/52500 [==============================] - 2s 38us/step - loss: 0.2885 - accuracy: 0.9174 - val_loss: 0.3071 - val_accuracy: 0.9093\n",
      "Epoch 86/100\n",
      "52500/52500 [==============================] - 2s 38us/step - loss: 0.2875 - accuracy: 0.9174 - val_loss: 0.3066 - val_accuracy: 0.9091\n",
      "Epoch 87/100\n",
      "52500/52500 [==============================] - 2s 38us/step - loss: 0.2865 - accuracy: 0.9181 - val_loss: 0.3054 - val_accuracy: 0.9097\n",
      "Epoch 88/100\n",
      "52500/52500 [==============================] - 2s 38us/step - loss: 0.2854 - accuracy: 0.9185 - val_loss: 0.3044 - val_accuracy: 0.9099\n",
      "Epoch 89/100\n",
      "52500/52500 [==============================] - 2s 39us/step - loss: 0.2843 - accuracy: 0.9189 - val_loss: 0.3040 - val_accuracy: 0.9090\n",
      "Epoch 90/100\n",
      "52500/52500 [==============================] - 2s 38us/step - loss: 0.2834 - accuracy: 0.9190 - val_loss: 0.3024 - val_accuracy: 0.9106\n",
      "Epoch 91/100\n",
      "52500/52500 [==============================] - 2s 39us/step - loss: 0.2824 - accuracy: 0.9190 - val_loss: 0.3015 - val_accuracy: 0.9105\n",
      "Epoch 92/100\n",
      "52500/52500 [==============================] - 2s 39us/step - loss: 0.2814 - accuracy: 0.9196 - val_loss: 0.3008 - val_accuracy: 0.9113\n",
      "Epoch 93/100\n",
      "52500/52500 [==============================] - 2s 38us/step - loss: 0.2804 - accuracy: 0.9194 - val_loss: 0.3002 - val_accuracy: 0.9106\n",
      "Epoch 94/100\n",
      "52500/52500 [==============================] - 2s 39us/step - loss: 0.2795 - accuracy: 0.9201 - val_loss: 0.2990 - val_accuracy: 0.9115\n",
      "Epoch 95/100\n",
      "52500/52500 [==============================] - 2s 38us/step - loss: 0.2786 - accuracy: 0.9202 - val_loss: 0.2981 - val_accuracy: 0.9117\n",
      "Epoch 96/100\n",
      "52500/52500 [==============================] - 2s 38us/step - loss: 0.2777 - accuracy: 0.9203 - val_loss: 0.2974 - val_accuracy: 0.9118\n",
      "Epoch 97/100\n",
      "52500/52500 [==============================] - 2s 38us/step - loss: 0.2767 - accuracy: 0.9208 - val_loss: 0.2965 - val_accuracy: 0.9119\n",
      "Epoch 98/100\n",
      "52500/52500 [==============================] - 2s 39us/step - loss: 0.2758 - accuracy: 0.9212 - val_loss: 0.2958 - val_accuracy: 0.9121\n",
      "Epoch 99/100\n",
      "52500/52500 [==============================] - 2s 34us/step - loss: 0.2749 - accuracy: 0.9214 - val_loss: 0.2953 - val_accuracy: 0.9119\n",
      "Epoch 100/100\n",
      "52500/52500 [==============================] - 2s 34us/step - loss: 0.2740 - accuracy: 0.9216 - val_loss: 0.2939 - val_accuracy: 0.9127\n"
     ]
    }
   ],
   "source": [
    "# train the model using SGD\n",
    "sgd = SGD(0.01)\n",
    "model.compile(optimizer = sgd, loss = \"categorical_crossentropy\", metrics = ['accuracy'])\n",
    "H= model.fit(X_train, y_train, validation_data=(X_test, y_test), epochs=100, batch_size=128)"
   ]
  },
  {
   "cell_type": "code",
   "execution_count": 56,
   "metadata": {},
   "outputs": [
    {
     "name": "stdout",
     "output_type": "stream",
     "text": [
      "[INFO] evaluating network...\n",
      "              precision    recall  f1-score   support\n",
      "\n",
      "           0       0.96      0.96      0.96      1734\n",
      "           1       0.95      0.97      0.96      2025\n",
      "           2       0.90      0.89      0.89      1723\n",
      "           3       0.91      0.88      0.89      1784\n",
      "           4       0.90      0.92      0.91      1662\n",
      "           5       0.88      0.86      0.87      1615\n",
      "           6       0.93      0.94      0.94      1715\n",
      "           7       0.92      0.92      0.92      1812\n",
      "           8       0.89      0.88      0.88      1703\n",
      "           9       0.89      0.89      0.89      1727\n",
      "\n",
      "    accuracy                           0.91     17500\n",
      "   macro avg       0.91      0.91      0.91     17500\n",
      "weighted avg       0.91      0.91      0.91     17500\n",
      "\n"
     ]
    }
   ],
   "source": [
    "print(\"[INFO] evaluating network...\")\n",
    "preds = model.predict(X_test, batch_size=128)\n",
    "print(classification_report(y_test.argmax(axis=1), preds.argmax(axis=1),\n",
    "                           target_names= [str(x)for x in lb.classes_]))"
   ]
  },
  {
   "cell_type": "code",
   "execution_count": 59,
   "metadata": {},
   "outputs": [
    {
     "data": {
      "image/png": "[encoded data removed]",
      "text/plain": [
       "<Figure size 432x288 with 1 Axes>"
      ]
     },
     "metadata": {},
     "output_type": "display_data"
    }
   ],
   "source": [
    "plt.style.use(\"ggplot\")\n",
    "plt.figure\n",
    "plt.plot(np.arange(0,100), H.history[\"loss\"], label=\"train loss\")\n",
    "plt.plot(np.arange(0,100), H.history[\"val_loss\"], label=\"validation_loss\")\n",
    "plt.plot(np.arange(0,100), H.history[\"accuracy\"], label=\"train accuracy\")\n",
    "plt.plot(np.arange(0,100), H.history[\"val_accuracy\"], label=\"validation_accuracy\")\n",
    "plt.title(\"Training Loss and Accuracy\")\n",
    "plt.xlabel(\"Epoch #\")\n",
    "plt.ylabel(\"Loss / Accuracy\")\n",
    "plt.legend()\n",
    "plt.show()"
   ]
  },
  {
   "cell_type": "markdown",
   "metadata": {},
   "source": [
    "## CIFAR-10\n",
    "*keras_cifar10.py*"
   ]
  },
  {
   "cell_type": "code",
   "execution_count": 60,
   "metadata": {},
   "outputs": [],
   "source": [
    "from sklearn.preprocessing import LabelBinarizer\n",
    "from sklearn.metrics import classification_report\n",
    "from sklearn.model_selection import train_test_split\n",
    "\n",
    "from keras.models import Sequential\n",
    "from keras.layers.core import Dense\n",
    "from keras.optimizers import SGD\n",
    "\n",
    "import numpy as np\n",
    "import matplotlib.pyplot as plt\n",
    "\n",
    "from keras.datasets import cifar10"
   ]
  },
  {
   "cell_type": "code",
   "execution_count": 61,
   "metadata": {},
   "outputs": [
    {
     "name": "stdout",
     "output_type": "stream",
     "text": [
      "[INFO] Loading CIFAR-10 data\n",
      "Downloading data from https://www.cs.toronto.edu/~kriz/cifar-10-python.tar.gz\n",
      "170500096/170498071 [==============================] - 57s 0us/step\n"
     ]
    }
   ],
   "source": [
    "# load the training and testing data, scale it into the range [0, 1],\n",
    "# then reshape the design matrix\n",
    "print(\"[INFO] Loading CIFAR-10 data\")\n",
    "((X_train, y_train), (X_test, y_test)) = cifar10.load_data()\n",
    "X_train = X_train.astype(\"float\") / 255.0\n",
    "X_test = X_test.astype(\"float\") / 255.0"
   ]
  },
  {
   "cell_type": "code",
   "execution_count": 63,
   "metadata": {},
   "outputs": [],
   "source": [
    "X_train = X_train.reshape((X_train.shape[0], 3072))\n",
    "X_test = X_test.reshape((X_test.shape[0], 3072))"
   ]
  },
  {
   "cell_type": "code",
   "execution_count": 64,
   "metadata": {},
   "outputs": [
    {
     "data": {
      "text/plain": [
       "(50000, 3072)"
      ]
     },
     "execution_count": 64,
     "metadata": {},
     "output_type": "execute_result"
    }
   ],
   "source": [
    "X_train.shape"
   ]
  },
  {
   "cell_type": "code",
   "execution_count": 65,
   "metadata": {},
   "outputs": [],
   "source": [
    "# convert the labels from integers to vectors\n",
    "lb = LabelBinarizer()\n",
    "y_train = lb.fit_transform(y_train)\n",
    "y_test = lb.fit_transform(y_test)\n",
    "\n",
    "# initialize the label names for the CIFAR-10 dataset\n",
    "labelNames = [\"airplane\", \"automobile\", \"bird\", \"cat\", \"deer\",\n",
    "\"dog\", \"frog\", \"horse\", \"ship\", \"truck\"]"
   ]
  },
  {
   "cell_type": "code",
   "execution_count": 68,
   "metadata": {},
   "outputs": [],
   "source": [
    "# define the 3072-1024-512-10 architecture using Keras\n",
    "model = Sequential()\n",
    "model.add(Dense(512, input_shape=(3072,), activation=\"relu\"))\n",
    "model.add(Dense(512, activation=\"relu\"))\n",
    "model.add(Dense(10, activation=\"softmax\"))"
   ]
  },
  {
   "cell_type": "code",
   "execution_count": 69,
   "metadata": {},
   "outputs": [
    {
     "name": "stdout",
     "output_type": "stream",
     "text": [
      "Train on 50000 samples, validate on 10000 samples\n",
      "Epoch 1/100\n",
      "50000/50000 [==============================] - 17s 343us/step - loss: 1.8614 - accuracy: 0.3359 - val_loss: 1.7873 - val_accuracy: 0.3467\n",
      "Epoch 2/100\n",
      "50000/50000 [==============================] - 17s 341us/step - loss: 1.6743 - accuracy: 0.4064 - val_loss: 1.6977 - val_accuracy: 0.3808\n",
      "Epoch 3/100\n",
      "50000/50000 [==============================] - 17s 342us/step - loss: 1.5885 - accuracy: 0.4365 - val_loss: 1.6108 - val_accuracy: 0.4293\n",
      "Epoch 4/100\n",
      "50000/50000 [==============================] - 17s 345us/step - loss: 1.5322 - accuracy: 0.4578 - val_loss: 1.6960 - val_accuracy: 0.3851\n",
      "Epoch 5/100\n",
      "50000/50000 [==============================] - 17s 345us/step - loss: 1.4860 - accuracy: 0.4757 - val_loss: 1.5114 - val_accuracy: 0.4498\n",
      "Epoch 6/100\n",
      "50000/50000 [==============================] - 17s 345us/step - loss: 1.4444 - accuracy: 0.4909 - val_loss: 1.4729 - val_accuracy: 0.4777\n",
      "Epoch 7/100\n",
      "50000/50000 [==============================] - 17s 349us/step - loss: 1.4136 - accuracy: 0.5000 - val_loss: 1.5050 - val_accuracy: 0.4649\n",
      "Epoch 8/100\n",
      "50000/50000 [==============================] - 18s 353us/step - loss: 1.3796 - accuracy: 0.5126 - val_loss: 1.4364 - val_accuracy: 0.4921\n",
      "Epoch 9/100\n",
      "50000/50000 [==============================] - 17s 349us/step - loss: 1.3536 - accuracy: 0.5222 - val_loss: 1.4321 - val_accuracy: 0.4834\n",
      "Epoch 10/100\n",
      "50000/50000 [==============================] - 18s 352us/step - loss: 1.3247 - accuracy: 0.5355 - val_loss: 1.4391 - val_accuracy: 0.4890\n",
      "Epoch 11/100\n",
      "50000/50000 [==============================] - 18s 366us/step - loss: 1.3000 - accuracy: 0.5417 - val_loss: 1.4130 - val_accuracy: 0.4982\n",
      "Epoch 12/100\n",
      "50000/50000 [==============================] - 18s 351us/step - loss: 1.2775 - accuracy: 0.5500 - val_loss: 1.4044 - val_accuracy: 0.4983\n",
      "Epoch 13/100\n",
      "50000/50000 [==============================] - 18s 364us/step - loss: 1.2539 - accuracy: 0.5578 - val_loss: 1.4199 - val_accuracy: 0.4944\n",
      "Epoch 14/100\n",
      "50000/50000 [==============================] - 18s 354us/step - loss: 1.2314 - accuracy: 0.5658 - val_loss: 1.3699 - val_accuracy: 0.5153\n",
      "Epoch 15/100\n",
      "50000/50000 [==============================] - 18s 355us/step - loss: 1.2103 - accuracy: 0.5749 - val_loss: 1.3456 - val_accuracy: 0.5265\n",
      "Epoch 16/100\n",
      "50000/50000 [==============================] - 18s 356us/step - loss: 1.1882 - accuracy: 0.5820 - val_loss: 1.4346 - val_accuracy: 0.5092\n",
      "Epoch 17/100\n",
      "50000/50000 [==============================] - 18s 359us/step - loss: 1.1682 - accuracy: 0.5894 - val_loss: 1.3261 - val_accuracy: 0.5344\n",
      "Epoch 18/100\n",
      "50000/50000 [==============================] - 18s 368us/step - loss: 1.1497 - accuracy: 0.5963 - val_loss: 1.3732 - val_accuracy: 0.5149\n",
      "Epoch 19/100\n",
      "50000/50000 [==============================] - 18s 369us/step - loss: 1.1295 - accuracy: 0.6027 - val_loss: 1.3913 - val_accuracy: 0.5073\n",
      "Epoch 20/100\n",
      "50000/50000 [==============================] - 18s 365us/step - loss: 1.1114 - accuracy: 0.6100 - val_loss: 1.3789 - val_accuracy: 0.5193\n",
      "Epoch 21/100\n",
      "50000/50000 [==============================] - 18s 356us/step - loss: 1.0906 - accuracy: 0.6193 - val_loss: 1.3254 - val_accuracy: 0.5330\n",
      "Epoch 22/100\n",
      "50000/50000 [==============================] - 18s 360us/step - loss: 1.0740 - accuracy: 0.6228 - val_loss: 1.4016 - val_accuracy: 0.5100\n",
      "Epoch 23/100\n",
      "50000/50000 [==============================] - 18s 360us/step - loss: 1.0538 - accuracy: 0.6296 - val_loss: 1.4481 - val_accuracy: 0.4977\n",
      "Epoch 24/100\n",
      "50000/50000 [==============================] - 18s 360us/step - loss: 1.0327 - accuracy: 0.6379 - val_loss: 1.3100 - val_accuracy: 0.5412\n",
      "Epoch 25/100\n",
      "50000/50000 [==============================] - 18s 357us/step - loss: 1.0170 - accuracy: 0.6435 - val_loss: 1.3528 - val_accuracy: 0.5331\n",
      "Epoch 26/100\n",
      "50000/50000 [==============================] - 18s 360us/step - loss: 0.9968 - accuracy: 0.6522 - val_loss: 1.3792 - val_accuracy: 0.5207\n",
      "Epoch 27/100\n",
      "50000/50000 [==============================] - 18s 360us/step - loss: 0.9793 - accuracy: 0.6560 - val_loss: 1.4787 - val_accuracy: 0.4975\n",
      "Epoch 28/100\n",
      "50000/50000 [==============================] - 18s 358us/step - loss: 0.9616 - accuracy: 0.6651 - val_loss: 1.3814 - val_accuracy: 0.5198\n",
      "Epoch 29/100\n",
      "50000/50000 [==============================] - 18s 363us/step - loss: 0.9432 - accuracy: 0.6697 - val_loss: 1.4553 - val_accuracy: 0.5054\n",
      "Epoch 30/100\n",
      "50000/50000 [==============================] - 18s 361us/step - loss: 0.9285 - accuracy: 0.6778 - val_loss: 1.3054 - val_accuracy: 0.5497\n",
      "Epoch 31/100\n",
      "50000/50000 [==============================] - 18s 370us/step - loss: 0.9081 - accuracy: 0.6843 - val_loss: 1.4057 - val_accuracy: 0.5236\n",
      "Epoch 32/100\n",
      "50000/50000 [==============================] - 18s 367us/step - loss: 0.8878 - accuracy: 0.6921 - val_loss: 1.4455 - val_accuracy: 0.5327\n",
      "Epoch 33/100\n",
      "50000/50000 [==============================] - 19s 371us/step - loss: 0.8716 - accuracy: 0.6958 - val_loss: 1.3846 - val_accuracy: 0.5368\n",
      "Epoch 34/100\n",
      "50000/50000 [==============================] - 19s 390us/step - loss: 0.8524 - accuracy: 0.7030 - val_loss: 1.4148 - val_accuracy: 0.5276\n",
      "Epoch 35/100\n",
      "50000/50000 [==============================] - 18s 368us/step - loss: 0.8358 - accuracy: 0.7100 - val_loss: 1.3181 - val_accuracy: 0.5539\n",
      "Epoch 36/100\n",
      "50000/50000 [==============================] - 17s 349us/step - loss: 0.8184 - accuracy: 0.7163 - val_loss: 1.3952 - val_accuracy: 0.5402\n",
      "Epoch 37/100\n",
      "50000/50000 [==============================] - 18s 364us/step - loss: 0.8003 - accuracy: 0.7222 - val_loss: 1.3920 - val_accuracy: 0.5349\n",
      "Epoch 38/100\n",
      "50000/50000 [==============================] - 18s 359us/step - loss: 0.7819 - accuracy: 0.7276 - val_loss: 1.5339 - val_accuracy: 0.5172\n",
      "Epoch 39/100\n",
      "50000/50000 [==============================] - 18s 361us/step - loss: 0.7656 - accuracy: 0.7355 - val_loss: 1.4021 - val_accuracy: 0.5292\n",
      "Epoch 40/100\n",
      "50000/50000 [==============================] - 17s 347us/step - loss: 0.7456 - accuracy: 0.7417 - val_loss: 1.3783 - val_accuracy: 0.5459\n",
      "Epoch 41/100\n",
      "50000/50000 [==============================] - 18s 356us/step - loss: 0.7296 - accuracy: 0.7483 - val_loss: 1.3956 - val_accuracy: 0.5460\n",
      "Epoch 42/100\n",
      "50000/50000 [==============================] - 18s 355us/step - loss: 0.7128 - accuracy: 0.7534 - val_loss: 1.3904 - val_accuracy: 0.5513\n",
      "Epoch 43/100\n",
      "50000/50000 [==============================] - 18s 369us/step - loss: 0.6938 - accuracy: 0.7619 - val_loss: 1.4448 - val_accuracy: 0.5383\n",
      "Epoch 44/100\n",
      "50000/50000 [==============================] - 17s 348us/step - loss: 0.6749 - accuracy: 0.7666 - val_loss: 1.4304 - val_accuracy: 0.5402\n",
      "Epoch 45/100\n",
      "50000/50000 [==============================] - 18s 358us/step - loss: 0.6609 - accuracy: 0.7711 - val_loss: 1.4307 - val_accuracy: 0.5466\n",
      "Epoch 46/100\n",
      "50000/50000 [==============================] - 17s 345us/step - loss: 0.6425 - accuracy: 0.7798 - val_loss: 1.5289 - val_accuracy: 0.5304\n",
      "Epoch 47/100\n",
      "50000/50000 [==============================] - 17s 350us/step - loss: 0.6265 - accuracy: 0.7844 - val_loss: 1.5526 - val_accuracy: 0.5223\n",
      "Epoch 48/100\n",
      "50000/50000 [==============================] - 19s 375us/step - loss: 0.6077 - accuracy: 0.7916 - val_loss: 1.7187 - val_accuracy: 0.5076\n",
      "Epoch 49/100\n",
      "50000/50000 [==============================] - 19s 378us/step - loss: 0.5942 - accuracy: 0.7962 - val_loss: 1.5561 - val_accuracy: 0.5333\n",
      "Epoch 50/100\n",
      "50000/50000 [==============================] - 18s 352us/step - loss: 0.5749 - accuracy: 0.8019 - val_loss: 1.5714 - val_accuracy: 0.5260\n",
      "Epoch 51/100\n",
      "50000/50000 [==============================] - 18s 367us/step - loss: 0.5580 - accuracy: 0.8107 - val_loss: 1.5824 - val_accuracy: 0.5339\n",
      "Epoch 52/100\n",
      "50000/50000 [==============================] - 18s 365us/step - loss: 0.5451 - accuracy: 0.8149 - val_loss: 1.7080 - val_accuracy: 0.5153\n",
      "Epoch 53/100\n",
      "50000/50000 [==============================] - 18s 354us/step - loss: 0.5288 - accuracy: 0.8216 - val_loss: 1.5698 - val_accuracy: 0.5382\n",
      "Epoch 54/100\n",
      "50000/50000 [==============================] - 18s 352us/step - loss: 0.5115 - accuracy: 0.8274 - val_loss: 1.5483 - val_accuracy: 0.5416\n"
     ]
    },
    {
     "name": "stdout",
     "output_type": "stream",
     "text": [
      "Epoch 55/100\n",
      "50000/50000 [==============================] - 17s 350us/step - loss: 0.4976 - accuracy: 0.8336 - val_loss: 1.6342 - val_accuracy: 0.5288\n",
      "Epoch 56/100\n",
      "50000/50000 [==============================] - 17s 345us/step - loss: 0.4859 - accuracy: 0.8349 - val_loss: 1.6924 - val_accuracy: 0.5240\n",
      "Epoch 57/100\n",
      "50000/50000 [==============================] - 18s 353us/step - loss: 0.4670 - accuracy: 0.8428 - val_loss: 1.5845 - val_accuracy: 0.5540\n",
      "Epoch 58/100\n",
      "50000/50000 [==============================] - 17s 342us/step - loss: 0.4508 - accuracy: 0.8480 - val_loss: 1.7876 - val_accuracy: 0.5110\n",
      "Epoch 59/100\n",
      "50000/50000 [==============================] - 17s 340us/step - loss: 0.4362 - accuracy: 0.8546 - val_loss: 1.6429 - val_accuracy: 0.5434\n",
      "Epoch 60/100\n",
      "50000/50000 [==============================] - 18s 357us/step - loss: 0.4209 - accuracy: 0.8600 - val_loss: 1.6373 - val_accuracy: 0.5359\n",
      "Epoch 61/100\n",
      "50000/50000 [==============================] - 18s 355us/step - loss: 0.4100 - accuracy: 0.8649 - val_loss: 1.8795 - val_accuracy: 0.5105\n",
      "Epoch 62/100\n",
      "50000/50000 [==============================] - 17s 346us/step - loss: 0.3946 - accuracy: 0.8692 - val_loss: 1.6124 - val_accuracy: 0.5548\n",
      "Epoch 63/100\n",
      "50000/50000 [==============================] - 18s 352us/step - loss: 0.3853 - accuracy: 0.8725 - val_loss: 1.6548 - val_accuracy: 0.5503\n",
      "Epoch 64/100\n",
      "50000/50000 [==============================] - 17s 344us/step - loss: 0.3677 - accuracy: 0.8792 - val_loss: 1.6749 - val_accuracy: 0.5487\n",
      "Epoch 65/100\n",
      "50000/50000 [==============================] - 18s 353us/step - loss: 0.3534 - accuracy: 0.8859 - val_loss: 1.7845 - val_accuracy: 0.5398\n",
      "Epoch 66/100\n",
      "50000/50000 [==============================] - 17s 349us/step - loss: 0.3378 - accuracy: 0.8906 - val_loss: 1.8569 - val_accuracy: 0.5271\n",
      "Epoch 67/100\n",
      "50000/50000 [==============================] - 17s 341us/step - loss: 0.3290 - accuracy: 0.8944 - val_loss: 1.7812 - val_accuracy: 0.5396\n",
      "Epoch 68/100\n",
      "50000/50000 [==============================] - 17s 337us/step - loss: 0.3159 - accuracy: 0.8990 - val_loss: 1.7304 - val_accuracy: 0.5504\n",
      "Epoch 69/100\n",
      "50000/50000 [==============================] - 18s 354us/step - loss: 0.3096 - accuracy: 0.9001 - val_loss: 1.7276 - val_accuracy: 0.5520\n",
      "Epoch 70/100\n",
      "50000/50000 [==============================] - 18s 353us/step - loss: 0.2949 - accuracy: 0.9070 - val_loss: 1.8050 - val_accuracy: 0.5509\n",
      "Epoch 71/100\n",
      "50000/50000 [==============================] - 17s 347us/step - loss: 0.2794 - accuracy: 0.9124 - val_loss: 1.8651 - val_accuracy: 0.5438\n",
      "Epoch 72/100\n",
      "50000/50000 [==============================] - 17s 347us/step - loss: 0.2681 - accuracy: 0.9160 - val_loss: 1.9282 - val_accuracy: 0.5295\n",
      "Epoch 73/100\n",
      "50000/50000 [==============================] - 17s 345us/step - loss: 0.2559 - accuracy: 0.9221 - val_loss: 2.1403 - val_accuracy: 0.5171\n",
      "Epoch 74/100\n",
      "50000/50000 [==============================] - 17s 346us/step - loss: 0.2429 - accuracy: 0.9264 - val_loss: 1.9159 - val_accuracy: 0.5391\n",
      "Epoch 75/100\n",
      "50000/50000 [==============================] - 17s 341us/step - loss: 0.2354 - accuracy: 0.9285 - val_loss: 2.0353 - val_accuracy: 0.5273\n",
      "Epoch 76/100\n",
      "50000/50000 [==============================] - 18s 354us/step - loss: 0.2280 - accuracy: 0.9314 - val_loss: 2.0203 - val_accuracy: 0.5432\n",
      "Epoch 77/100\n",
      "50000/50000 [==============================] - 17s 339us/step - loss: 0.2213 - accuracy: 0.9327 - val_loss: 1.9416 - val_accuracy: 0.5405\n",
      "Epoch 78/100\n",
      "50000/50000 [==============================] - 18s 351us/step - loss: 0.2108 - accuracy: 0.9362 - val_loss: 2.1147 - val_accuracy: 0.5299\n",
      "Epoch 79/100\n",
      "50000/50000 [==============================] - 17s 340us/step - loss: 0.2022 - accuracy: 0.9392 - val_loss: 1.9737 - val_accuracy: 0.5385\n",
      "Epoch 80/100\n",
      "50000/50000 [==============================] - 17s 340us/step - loss: 0.1922 - accuracy: 0.9444 - val_loss: 2.1085 - val_accuracy: 0.5365\n",
      "Epoch 81/100\n",
      "50000/50000 [==============================] - 18s 352us/step - loss: 0.1848 - accuracy: 0.9476 - val_loss: 1.9688 - val_accuracy: 0.5533\n",
      "Epoch 82/100\n",
      "50000/50000 [==============================] - 17s 341us/step - loss: 0.1749 - accuracy: 0.9510 - val_loss: 2.1162 - val_accuracy: 0.5435\n",
      "Epoch 83/100\n",
      "50000/50000 [==============================] - 17s 340us/step - loss: 0.1661 - accuracy: 0.9531 - val_loss: 2.0273 - val_accuracy: 0.5506\n",
      "Epoch 84/100\n",
      "50000/50000 [==============================] - 17s 342us/step - loss: 0.1593 - accuracy: 0.9559 - val_loss: 1.9798 - val_accuracy: 0.5547\n",
      "Epoch 85/100\n",
      "50000/50000 [==============================] - 18s 353us/step - loss: 0.1508 - accuracy: 0.9588 - val_loss: 2.0290 - val_accuracy: 0.5498\n",
      "Epoch 86/100\n",
      "50000/50000 [==============================] - 17s 344us/step - loss: 0.1399 - accuracy: 0.9626 - val_loss: 2.1919 - val_accuracy: 0.5385\n",
      "Epoch 87/100\n",
      "50000/50000 [==============================] - 17s 346us/step - loss: 0.1393 - accuracy: 0.9625 - val_loss: 2.0594 - val_accuracy: 0.5595\n",
      "Epoch 88/100\n",
      "50000/50000 [==============================] - 17s 341us/step - loss: 0.1355 - accuracy: 0.9635 - val_loss: 2.5072 - val_accuracy: 0.5033\n",
      "Epoch 89/100\n",
      "50000/50000 [==============================] - 18s 355us/step - loss: 0.1231 - accuracy: 0.9685 - val_loss: 2.5914 - val_accuracy: 0.4984\n",
      "Epoch 90/100\n",
      "50000/50000 [==============================] - 18s 363us/step - loss: 0.1156 - accuracy: 0.9719 - val_loss: 2.1362 - val_accuracy: 0.5571\n",
      "Epoch 91/100\n",
      "50000/50000 [==============================] - 18s 366us/step - loss: 0.1100 - accuracy: 0.9727 - val_loss: 2.2252 - val_accuracy: 0.5466\n",
      "Epoch 92/100\n",
      "50000/50000 [==============================] - 18s 354us/step - loss: 0.1048 - accuracy: 0.9752 - val_loss: 2.1886 - val_accuracy: 0.5481\n",
      "Epoch 93/100\n",
      "50000/50000 [==============================] - 17s 346us/step - loss: 0.0983 - accuracy: 0.9774 - val_loss: 2.1689 - val_accuracy: 0.5524\n",
      "Epoch 94/100\n",
      "50000/50000 [==============================] - 17s 331us/step - loss: 0.0919 - accuracy: 0.9794 - val_loss: 2.1798 - val_accuracy: 0.5646\n",
      "Epoch 95/100\n",
      "50000/50000 [==============================] - 17s 347us/step - loss: 0.0904 - accuracy: 0.9791 - val_loss: 2.2346 - val_accuracy: 0.5524\n",
      "Epoch 96/100\n",
      "50000/50000 [==============================] - 17s 344us/step - loss: 0.0813 - accuracy: 0.9825 - val_loss: 2.2638 - val_accuracy: 0.5563\n",
      "Epoch 97/100\n",
      "50000/50000 [==============================] - 17s 341us/step - loss: 0.0780 - accuracy: 0.9831 - val_loss: 2.2308 - val_accuracy: 0.5530\n",
      "Epoch 98/100\n",
      "50000/50000 [==============================] - 17s 346us/step - loss: 0.0755 - accuracy: 0.9838 - val_loss: 2.4101 - val_accuracy: 0.5445\n",
      "Epoch 99/100\n",
      "50000/50000 [==============================] - 17s 333us/step - loss: 0.0678 - accuracy: 0.9869 - val_loss: 2.2589 - val_accuracy: 0.5606\n",
      "Epoch 100/100\n",
      "50000/50000 [==============================] - 17s 334us/step - loss: 0.0617 - accuracy: 0.9886 - val_loss: 2.2751 - val_accuracy: 0.5591\n"
     ]
    }
   ],
   "source": [
    "#train the model using SGD\n",
    "sgd = SGD(0.01)\n",
    "model.compile(optimizer=sgd, loss=\"categorical_crossentropy\", metrics=[\"accuracy\"])\n",
    "H = model.fit(X_train, y_train, validation_data=(X_test, y_test), \n",
    "          epochs = 100, batch_size=32)"
   ]
  },
  {
   "cell_type": "code",
   "execution_count": 70,
   "metadata": {},
   "outputs": [
    {
     "name": "stdout",
     "output_type": "stream",
     "text": [
      "[INFO] evaluating the network...\n",
      "              precision    recall  f1-score   support\n",
      "\n",
      "    airplane       0.66      0.62      0.64      1000\n",
      "  automobile       0.68      0.66      0.67      1000\n",
      "        bird       0.47      0.45      0.46      1000\n",
      "         cat       0.36      0.47      0.41      1000\n",
      "        deer       0.51      0.46      0.48      1000\n",
      "         dog       0.47      0.41      0.44      1000\n",
      "        frog       0.63      0.58      0.60      1000\n",
      "       horse       0.65      0.61      0.63      1000\n",
      "        ship       0.64      0.73      0.68      1000\n",
      "       truck       0.57      0.60      0.59      1000\n",
      "\n",
      "    accuracy                           0.56     10000\n",
      "   macro avg       0.56      0.56      0.56     10000\n",
      "weighted avg       0.56      0.56      0.56     10000\n",
      "\n"
     ]
    }
   ],
   "source": [
    "print(\"[INFO] evaluating the network...\")\n",
    "y_pred = model.predict(X_test, batch_size = 32)\n",
    "print(classification_report(y_test.argmax(axis=1), y_pred.argmax(axis=1),\n",
    "                           target_names = labelNames))"
   ]
  },
  {
   "cell_type": "code",
   "execution_count": 71,
   "metadata": {},
   "outputs": [
    {
     "data": {
      "image/png": "[encoded data removed]",
      "text/plain": [
       "<Figure size 432x288 with 1 Axes>"
      ]
     },
     "metadata": {},
     "output_type": "display_data"
    }
   ],
   "source": [
    "# plot the training loss and accuracy\n",
    "plt.style.use(\"ggplot\")\n",
    "plt.figure()\n",
    "plt.plot(np.arange(0,100), H.history[\"loss\"], label = \"train_loss\")\n",
    "plt.plot(np.arange(0,100), H.history[\"val_loss\"], label=\"validation_loss\")\n",
    "plt.plot(np.arange(0,100), H.history[\"accuracy\"], label = \"train_accuracy\")\n",
    "plt.plot(np.arange(0,100), H.history[\"val_accuracy\"], label=\"validation_accuracy\")\n",
    "plt.xlabel(\"# Epochs\")\n",
    "plt.ylabel(\"Training Loss/Accuracy\")\n",
    "plt.legend()\n",
    "plt.show()"
   ]
  },
  {
   "cell_type": "code",
   "execution_count": null,
   "metadata": {},
   "outputs": [],
   "source": []
  }
 ],
 "metadata": {
  "kernelspec": {
   "display_name": "Python 3",
   "language": "python",
   "name": "python3"
  },
  "language_info": {
   "codemirror_mode": {
    "name": "ipython",
    "version": 3
   },
   "file_extension": ".py",
   "mimetype": "text/x-python",
   "name": "python",
   "nbconvert_exporter": "python",
   "pygments_lexer": "ipython3",
   "version": "3.5.2"
  }
 },
 "nbformat": 4,
 "nbformat_minor": 2
}
