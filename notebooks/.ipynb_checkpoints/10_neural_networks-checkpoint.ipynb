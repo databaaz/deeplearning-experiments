{
 "cells": [
  {
   "cell_type": "code",
   "execution_count": 1,
   "metadata": {},
   "outputs": [],
   "source": [
    "import numpy as np"
   ]
  },
  {
   "cell_type": "markdown",
   "metadata": {},
   "source": [
    "## Neural Network implementation"
   ]
  },
  {
   "cell_type": "code",
   "execution_count": null,
   "metadata": {},
   "outputs": [],
   "source": [
    "class NeuralNetwork:\n",
    "    def __init__(self, layers, alpha = 0.1):\n",
    "        self.W = []\n",
    "        self.layers = layers\n",
    "        self.alpha = alpha\n",
    "        \n",
    "        \n",
    "        for i in range(0, len(layers)-2):\n",
    "            \n",
    "            w = np.random.randn(layers[i]+1, layers[i+1]+1)\n",
    "            self.W.append(w / np.sqrt(layers[i])) # normalizing the variance of each neuron's output\n",
    "            \n",
    "        w = np.random.randn(layers[-2]+1, layers[-1])\n",
    "        self.W.append(w/np.sqrt(layers[-2]))\n",
    "        \n",
    "        def __repr__(self):\n",
    "            return \"NeuralNetwork: {}\".format(\n",
    "                \"-\".join([str(i) for i in self.layers]))\n",
    "        \n",
    "        \n",
    "    def sigmoid(self, x):\n",
    "        return 1.0 / (1+np.exp(-x))\n",
    "    \n",
    "    def sigmoid_derv(self, y):\n",
    "        # compute the derivative of the sigmoid function ASSUMING\n",
    "        # that ‘y‘ has already been passed through the ‘sigmoid‘ function\n",
    "        return y * (1 - y)\n",
    "    \n",
    "    def fit(self, X, y, epochs = 1000, displayUpdate=100):\n",
    "        # insert a column of 1’s as the last entry in the feature\n",
    "        # matrix -- this little trick allows us to treat the bias\n",
    "        # as a trainable parameter within the weight matrix\n",
    "        X = np.c_[X, np.ones(X.shape[0])]\n",
    "        \n",
    "        for epoch in epochs:\n",
    "            # loop over each individual data point and train\n",
    "            # our network on it\n",
    "            for (x, target) in zip(X, y):\n",
    "                self.fit_partial(x, target)\n",
    "                \n",
    "            if epoch == 0 or (epoch + 1)%displayUpdate == 0:\n",
    "                loss = self.calculate_loss(X, y)\n",
    "                print (\"[INFO] epoch {}: loss = {:.7f}\".format(\n",
    "                                            epoch+1, loss))\n",
    "                \n",
    "                \n",
    "    def fit_partial(self, x, y):\n",
    "        # construct our list of output activations for each layer\n",
    "        # as our data point flows through the network; the first\n",
    "        # activation is a special case -- it’s just the input\n",
    "        # feature vector itself\n",
    "        \n",
    "        A = [np.atleast_2d(x)]\n",
    "        \n",
    "    \n",
    "    "
   ]
  }
 ],
 "metadata": {
  "kernelspec": {
   "display_name": "Python 3",
   "language": "python",
   "name": "python3"
  },
  "language_info": {
   "codemirror_mode": {
    "name": "ipython",
    "version": 3
   },
   "file_extension": ".py",
   "mimetype": "text/x-python",
   "name": "python",
   "nbconvert_exporter": "python",
   "pygments_lexer": "ipython3",
   "version": "3.5.2"
  }
 },
 "nbformat": 4,
 "nbformat_minor": 2
}
