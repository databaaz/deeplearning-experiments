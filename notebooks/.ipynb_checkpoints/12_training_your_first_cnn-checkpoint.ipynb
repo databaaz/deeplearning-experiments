{
 "cells": [
  {
   "cell_type": "markdown",
   "metadata": {},
   "source": [
    "## ShallowNet"
   ]
  },
  {
   "cell_type": "code",
   "execution_count": 1,
   "metadata": {},
   "outputs": [
    {
     "name": "stderr",
     "output_type": "stream",
     "text": [
      "Using TensorFlow backend.\n"
     ]
    }
   ],
   "source": [
    "# dlframework.nn.conv.shallownet.py\n",
    "from keras.layers.convolutional import Conv2D\n",
    "from keras.layers.core import Dense, Flatten, Activation\n",
    "from keras.models import Sequential\n",
    "import keras.backend as K\n"
   ]
  },
  {
   "cell_type": "code",
   "execution_count": null,
   "metadata": {},
   "outputs": [],
   "source": [
    "class ShallowNet:\n",
    "    @staticmethod\n",
    "    def build(width, height, depth, classes):\n",
    "        \n",
    "        inputShape = (height, width, depth)\n",
    "        # if we are using \"channels first\", update the input shape\n",
    "        if K.image_data_format() == \"channels_first\":\n",
    "            inputShape = (depth, height, width)\n",
    "            \n",
    "        model = Sequential()\n",
    "        # define the first (and only) CONV => RELU layer\n",
    "        model.add(Conv2D(32, (3,3), padding = \"same\", input_shape = inputShape))\n",
    "        model.add(Activation(\"relu\"))\n",
    "        # softmax classifier\n",
    "        model.add(Flatten())\n",
    "        model.add(Dense(classes))\n",
    "        model.add(Activation(\"softmax\"))\n",
    "        \n",
    "        return model"
   ]
  },
  {
   "cell_type": "markdown",
   "metadata": {},
   "source": [
    "## ShallowNet on Animals data"
   ]
  },
  {
   "cell_type": "code",
   "execution_count": 4,
   "metadata": {},
   "outputs": [],
   "source": [
    "# shallownet_animals.py\n",
    "from sklearn.preprocessing import LabelBinarizer\n",
    "from sklearn.model_selection import train_test_split\n",
    "from sklearn.metrics import classification_report\n",
    "\n",
    "from dlframework.datasets import SimpleDatasetLoader\n",
    "from dlframework.preprocessing import SimplePreprocessor\n",
    "from dlframework.preprocessing import ImageToArrayPreprocessor\n",
    "from dlframework.nn.conv import ShallowNet\n",
    "from keras.optimizers import SGD\n",
    "\n",
    "from imutils import paths\n",
    "import numpy as np\n",
    "import matplotlib.pyplot as plt\n",
    "import argparse"
   ]
  },
  {
   "cell_type": "code",
   "execution_count": 7,
   "metadata": {},
   "outputs": [
    {
     "name": "stdout",
     "output_type": "stream",
     "text": [
      "[INFO] Loading images...\n"
     ]
    }
   ],
   "source": [
    "dataset = \"../SB_Code/datasets/animals/\"\n",
    "\n",
    "# ap = argparse.ArgumentParser()\n",
    "# ap.add_argument(\"-d\", \"--dataset\", required=True, help=\"path to input dataset\")\n",
    "# args = vars(ap.parse_args())\n",
    "\n",
    "# grab the list of images that we’ll be describing\n",
    "print(\"[INFO] Loading images...\")\n",
    "imagePaths = list(paths.list_images(dataset))\n"
   ]
  },
  {
   "cell_type": "code",
   "execution_count": 8,
   "metadata": {},
   "outputs": [
    {
     "name": "stdout",
     "output_type": "stream",
     "text": [
      "[INFO] processed 500/3000\n",
      "[INFO] processed 1000/3000\n",
      "[INFO] processed 1500/3000\n",
      "[INFO] processed 2000/3000\n",
      "[INFO] processed 2500/3000\n",
      "[INFO] processed 3000/3000\n"
     ]
    }
   ],
   "source": [
    "# initialize the image preprocessors\n",
    "sp = SimplePreprocessor(32, 32)\n",
    "ia = ImageToArrayPreprocessor()\n",
    "\n",
    "# load the dataset from disk then scale the raw pixel intensities\n",
    "# to the range [0, 1]\n",
    "sdl = SimpleDatasetLoader(preprocessors = [sp, ia])\n",
    "(data, labels) = sdl.load(imagePaths, verbose=500)\n",
    "data = data.astype(\"float\")/ 255.0"
   ]
  },
  {
   "cell_type": "code",
   "execution_count": 12,
   "metadata": {},
   "outputs": [],
   "source": [
    "X_train, X_test, y_train, y_test = train_test_split(data, labels,\n",
    "                                                    test_size = 0.25, random_state = 42)\n",
    "# convert the labels from integers to vectors\n",
    "y_train = LabelBinarizer().fit_transform(y_train)\n",
    "y_test = LabelBinarizer().fit_transform(y_test)"
   ]
  },
  {
   "cell_type": "code",
   "execution_count": 13,
   "metadata": {},
   "outputs": [
    {
     "name": "stdout",
     "output_type": "stream",
     "text": [
      "[INFO] compiling model...\n",
      "Train on 2250 samples, validate on 750 samples\n",
      "Epoch 1/100\n",
      "2250/2250 [==============================] - 1s 407us/step - loss: 1.0242 - accuracy: 0.4596 - val_loss: 1.0223 - val_accuracy: 0.4507\n",
      "Epoch 2/100\n",
      "2250/2250 [==============================] - 1s 328us/step - loss: 0.9329 - accuracy: 0.5347 - val_loss: 0.9428 - val_accuracy: 0.5147\n",
      "Epoch 3/100\n",
      "2250/2250 [==============================] - 1s 333us/step - loss: 0.9000 - accuracy: 0.5502 - val_loss: 0.8864 - val_accuracy: 0.5333\n",
      "Epoch 4/100\n",
      "2250/2250 [==============================] - 1s 315us/step - loss: 0.8713 - accuracy: 0.5738 - val_loss: 0.8613 - val_accuracy: 0.5600\n",
      "Epoch 5/100\n",
      "2250/2250 [==============================] - 1s 316us/step - loss: 0.8461 - accuracy: 0.5853 - val_loss: 0.8572 - val_accuracy: 0.5707\n",
      "Epoch 6/100\n",
      "2250/2250 [==============================] - 1s 324us/step - loss: 0.8350 - accuracy: 0.5978 - val_loss: 0.8534 - val_accuracy: 0.5547\n",
      "Epoch 7/100\n",
      "2250/2250 [==============================] - 1s 323us/step - loss: 0.8144 - accuracy: 0.6182 - val_loss: 0.8885 - val_accuracy: 0.5560\n",
      "Epoch 8/100\n",
      "2250/2250 [==============================] - 1s 321us/step - loss: 0.8136 - accuracy: 0.6053 - val_loss: 0.8757 - val_accuracy: 0.5453\n",
      "Epoch 9/100\n",
      "2250/2250 [==============================] - 1s 313us/step - loss: 0.8035 - accuracy: 0.6009 - val_loss: 0.8587 - val_accuracy: 0.5627\n",
      "Epoch 10/100\n",
      "2250/2250 [==============================] - 1s 319us/step - loss: 0.7928 - accuracy: 0.6156 - val_loss: 0.8414 - val_accuracy: 0.5733\n",
      "Epoch 11/100\n",
      "2250/2250 [==============================] - 1s 315us/step - loss: 0.7897 - accuracy: 0.6227 - val_loss: 0.8998 - val_accuracy: 0.5387\n",
      "Epoch 12/100\n",
      "2250/2250 [==============================] - 1s 317us/step - loss: 0.7813 - accuracy: 0.6422 - val_loss: 0.8496 - val_accuracy: 0.5693\n",
      "Epoch 13/100\n",
      "2250/2250 [==============================] - 1s 319us/step - loss: 0.7777 - accuracy: 0.6302 - val_loss: 0.8282 - val_accuracy: 0.5573\n",
      "Epoch 14/100\n",
      "2250/2250 [==============================] - 1s 318us/step - loss: 0.7684 - accuracy: 0.6396 - val_loss: 0.8330 - val_accuracy: 0.5640\n",
      "Epoch 15/100\n",
      "2250/2250 [==============================] - 1s 325us/step - loss: 0.7592 - accuracy: 0.6556 - val_loss: 0.7858 - val_accuracy: 0.6000\n",
      "Epoch 16/100\n",
      "2250/2250 [==============================] - 1s 322us/step - loss: 0.7513 - accuracy: 0.6520 - val_loss: 0.9359 - val_accuracy: 0.5480\n",
      "Epoch 17/100\n",
      "2250/2250 [==============================] - 1s 341us/step - loss: 0.7506 - accuracy: 0.6453 - val_loss: 0.7961 - val_accuracy: 0.5933\n",
      "Epoch 18/100\n",
      "2250/2250 [==============================] - 1s 336us/step - loss: 0.7363 - accuracy: 0.6716 - val_loss: 0.8253 - val_accuracy: 0.5707\n",
      "Epoch 19/100\n",
      "2250/2250 [==============================] - 1s 338us/step - loss: 0.7312 - accuracy: 0.6644 - val_loss: 0.8001 - val_accuracy: 0.5893\n",
      "Epoch 20/100\n",
      "2250/2250 [==============================] - 1s 325us/step - loss: 0.7266 - accuracy: 0.6578 - val_loss: 0.8188 - val_accuracy: 0.5827\n",
      "Epoch 21/100\n",
      "2250/2250 [==============================] - 1s 325us/step - loss: 0.7223 - accuracy: 0.6689 - val_loss: 0.7735 - val_accuracy: 0.6080\n",
      "Epoch 22/100\n",
      "2250/2250 [==============================] - 1s 331us/step - loss: 0.7168 - accuracy: 0.6658 - val_loss: 0.7878 - val_accuracy: 0.5973\n",
      "Epoch 23/100\n",
      "2250/2250 [==============================] - 1s 324us/step - loss: 0.7102 - accuracy: 0.6720 - val_loss: 0.7806 - val_accuracy: 0.6000\n",
      "Epoch 24/100\n",
      "2250/2250 [==============================] - 1s 324us/step - loss: 0.7020 - accuracy: 0.6796 - val_loss: 0.8931 - val_accuracy: 0.5720\n",
      "Epoch 25/100\n",
      "2250/2250 [==============================] - 1s 330us/step - loss: 0.6961 - accuracy: 0.6787 - val_loss: 0.7811 - val_accuracy: 0.6227\n",
      "Epoch 26/100\n",
      "2250/2250 [==============================] - 1s 328us/step - loss: 0.6872 - accuracy: 0.7004 - val_loss: 0.7712 - val_accuracy: 0.6067\n",
      "Epoch 27/100\n",
      "2250/2250 [==============================] - 1s 327us/step - loss: 0.6773 - accuracy: 0.7027 - val_loss: 0.8925 - val_accuracy: 0.5600\n",
      "Epoch 28/100\n",
      "2250/2250 [==============================] - 1s 336us/step - loss: 0.6736 - accuracy: 0.6960 - val_loss: 0.7558 - val_accuracy: 0.6200\n",
      "Epoch 29/100\n",
      "2250/2250 [==============================] - 1s 327us/step - loss: 0.6693 - accuracy: 0.7053 - val_loss: 0.7778 - val_accuracy: 0.6040\n",
      "Epoch 30/100\n",
      "2250/2250 [==============================] - 1s 331us/step - loss: 0.6710 - accuracy: 0.6996 - val_loss: 0.7437 - val_accuracy: 0.6333\n",
      "Epoch 31/100\n",
      "2250/2250 [==============================] - 1s 330us/step - loss: 0.6535 - accuracy: 0.7191 - val_loss: 0.7617 - val_accuracy: 0.6080\n",
      "Epoch 32/100\n",
      "2250/2250 [==============================] - 1s 323us/step - loss: 0.6461 - accuracy: 0.7222 - val_loss: 0.7505 - val_accuracy: 0.6093\n",
      "Epoch 33/100\n",
      "2250/2250 [==============================] - 1s 330us/step - loss: 0.6468 - accuracy: 0.7182 - val_loss: 0.7642 - val_accuracy: 0.6013\n",
      "Epoch 34/100\n",
      "2250/2250 [==============================] - 1s 329us/step - loss: 0.6418 - accuracy: 0.7231 - val_loss: 0.7682 - val_accuracy: 0.6173\n",
      "Epoch 35/100\n",
      "2250/2250 [==============================] - 1s 319us/step - loss: 0.6344 - accuracy: 0.7253 - val_loss: 0.7359 - val_accuracy: 0.6333\n",
      "Epoch 36/100\n",
      "2250/2250 [==============================] - 1s 320us/step - loss: 0.6279 - accuracy: 0.7280 - val_loss: 0.8166 - val_accuracy: 0.5840\n",
      "Epoch 37/100\n",
      "2250/2250 [==============================] - 1s 321us/step - loss: 0.6229 - accuracy: 0.7271 - val_loss: 0.7393 - val_accuracy: 0.6373\n",
      "Epoch 38/100\n",
      "2250/2250 [==============================] - 1s 317us/step - loss: 0.6067 - accuracy: 0.7444 - val_loss: 0.7376 - val_accuracy: 0.6227\n",
      "Epoch 39/100\n",
      "2250/2250 [==============================] - 1s 312us/step - loss: 0.6089 - accuracy: 0.7373 - val_loss: 0.7425 - val_accuracy: 0.6347\n",
      "Epoch 40/100\n",
      "2250/2250 [==============================] - 1s 330us/step - loss: 0.6036 - accuracy: 0.7356 - val_loss: 0.8124 - val_accuracy: 0.5840\n",
      "Epoch 41/100\n",
      "2250/2250 [==============================] - 1s 324us/step - loss: 0.5960 - accuracy: 0.7431 - val_loss: 0.7844 - val_accuracy: 0.6067\n",
      "Epoch 42/100\n",
      "2250/2250 [==============================] - 1s 320us/step - loss: 0.5949 - accuracy: 0.7444 - val_loss: 0.7273 - val_accuracy: 0.6440\n",
      "Epoch 43/100\n",
      "2250/2250 [==============================] - 1s 318us/step - loss: 0.5786 - accuracy: 0.7640 - val_loss: 0.9435 - val_accuracy: 0.5480\n",
      "Epoch 44/100\n",
      "2250/2250 [==============================] - 1s 316us/step - loss: 0.5910 - accuracy: 0.7467 - val_loss: 0.7169 - val_accuracy: 0.6520\n",
      "Epoch 45/100\n",
      "2250/2250 [==============================] - 1s 335us/step - loss: 0.5720 - accuracy: 0.7716 - val_loss: 0.7424 - val_accuracy: 0.6267\n",
      "Epoch 46/100\n",
      "2250/2250 [==============================] - 1s 343us/step - loss: 0.5693 - accuracy: 0.7644 - val_loss: 0.7753 - val_accuracy: 0.6133\n",
      "Epoch 47/100\n",
      "2250/2250 [==============================] - 1s 341us/step - loss: 0.5640 - accuracy: 0.7618 - val_loss: 0.7621 - val_accuracy: 0.6240\n",
      "Epoch 48/100\n",
      "2250/2250 [==============================] - 1s 321us/step - loss: 0.5592 - accuracy: 0.7738 - val_loss: 0.7143 - val_accuracy: 0.6467\n",
      "Epoch 49/100\n",
      "2250/2250 [==============================] - 1s 330us/step - loss: 0.5545 - accuracy: 0.7702 - val_loss: 1.1607 - val_accuracy: 0.4693\n",
      "Epoch 50/100\n",
      "2250/2250 [==============================] - 1s 327us/step - loss: 0.5523 - accuracy: 0.7813 - val_loss: 0.7702 - val_accuracy: 0.6187\n",
      "Epoch 51/100\n",
      "2250/2250 [==============================] - 1s 338us/step - loss: 0.5396 - accuracy: 0.7813 - val_loss: 0.7403 - val_accuracy: 0.6453\n",
      "Epoch 52/100\n",
      "2250/2250 [==============================] - 1s 321us/step - loss: 0.5388 - accuracy: 0.7804 - val_loss: 0.7236 - val_accuracy: 0.6373\n",
      "Epoch 53/100\n",
      "2250/2250 [==============================] - 1s 331us/step - loss: 0.5377 - accuracy: 0.7684 - val_loss: 0.7095 - val_accuracy: 0.6667\n",
      "Epoch 54/100\n",
      "2250/2250 [==============================] - 1s 330us/step - loss: 0.5308 - accuracy: 0.7791 - val_loss: 0.8145 - val_accuracy: 0.6040\n",
      "Epoch 55/100\n",
      "2250/2250 [==============================] - 1s 326us/step - loss: 0.5241 - accuracy: 0.7853 - val_loss: 0.7077 - val_accuracy: 0.6640\n"
     ]
    },
    {
     "name": "stdout",
     "output_type": "stream",
     "text": [
      "Epoch 56/100\n",
      "2250/2250 [==============================] - 1s 313us/step - loss: 0.5197 - accuracy: 0.7893 - val_loss: 0.8216 - val_accuracy: 0.6147\n",
      "Epoch 57/100\n",
      "2250/2250 [==============================] - 1s 312us/step - loss: 0.5180 - accuracy: 0.7813 - val_loss: 0.7036 - val_accuracy: 0.6653\n",
      "Epoch 58/100\n",
      "2250/2250 [==============================] - 1s 312us/step - loss: 0.5038 - accuracy: 0.8067 - val_loss: 0.7358 - val_accuracy: 0.6387\n",
      "Epoch 59/100\n",
      "2250/2250 [==============================] - 1s 309us/step - loss: 0.4990 - accuracy: 0.8067 - val_loss: 0.7916 - val_accuracy: 0.6213\n",
      "Epoch 60/100\n",
      "2250/2250 [==============================] - 1s 322us/step - loss: 0.5024 - accuracy: 0.7982 - val_loss: 0.8722 - val_accuracy: 0.5947\n",
      "Epoch 61/100\n",
      "2250/2250 [==============================] - 1s 317us/step - loss: 0.4935 - accuracy: 0.8022 - val_loss: 0.7514 - val_accuracy: 0.6373\n",
      "Epoch 62/100\n",
      "2250/2250 [==============================] - 1s 313us/step - loss: 0.4856 - accuracy: 0.8013 - val_loss: 0.7356 - val_accuracy: 0.6493\n",
      "Epoch 63/100\n",
      "2250/2250 [==============================] - 1s 312us/step - loss: 0.4858 - accuracy: 0.8084 - val_loss: 0.8422 - val_accuracy: 0.5987\n",
      "Epoch 64/100\n",
      "2250/2250 [==============================] - 1s 313us/step - loss: 0.4807 - accuracy: 0.8058 - val_loss: 0.7332 - val_accuracy: 0.6587\n",
      "Epoch 65/100\n",
      "2250/2250 [==============================] - 1s 313us/step - loss: 0.4857 - accuracy: 0.8067 - val_loss: 0.7522 - val_accuracy: 0.6320\n",
      "Epoch 66/100\n",
      "2250/2250 [==============================] - 1s 311us/step - loss: 0.4721 - accuracy: 0.8124 - val_loss: 0.7809 - val_accuracy: 0.6240\n",
      "Epoch 67/100\n",
      "2250/2250 [==============================] - 1s 312us/step - loss: 0.4727 - accuracy: 0.8093 - val_loss: 0.7341 - val_accuracy: 0.6507\n",
      "Epoch 68/100\n",
      "2250/2250 [==============================] - 1s 307us/step - loss: 0.4681 - accuracy: 0.8187 - val_loss: 0.8277 - val_accuracy: 0.6160\n",
      "Epoch 69/100\n",
      "2250/2250 [==============================] - 1s 313us/step - loss: 0.4673 - accuracy: 0.8102 - val_loss: 0.7275 - val_accuracy: 0.6573\n",
      "Epoch 70/100\n",
      "2250/2250 [==============================] - 1s 320us/step - loss: 0.4551 - accuracy: 0.8227 - val_loss: 0.7583 - val_accuracy: 0.6453\n",
      "Epoch 71/100\n",
      "2250/2250 [==============================] - 1s 310us/step - loss: 0.4530 - accuracy: 0.8196 - val_loss: 0.7277 - val_accuracy: 0.6667\n",
      "Epoch 72/100\n",
      "2250/2250 [==============================] - 1s 316us/step - loss: 0.4539 - accuracy: 0.8102 - val_loss: 0.7271 - val_accuracy: 0.6587\n",
      "Epoch 73/100\n",
      "2250/2250 [==============================] - 1s 309us/step - loss: 0.4468 - accuracy: 0.8231 - val_loss: 0.6980 - val_accuracy: 0.6707\n",
      "Epoch 74/100\n",
      "2250/2250 [==============================] - 1s 316us/step - loss: 0.4438 - accuracy: 0.8236 - val_loss: 0.7005 - val_accuracy: 0.6853\n",
      "Epoch 75/100\n",
      "2250/2250 [==============================] - 1s 311us/step - loss: 0.4353 - accuracy: 0.8284 - val_loss: 0.7206 - val_accuracy: 0.6480\n",
      "Epoch 76/100\n",
      "2250/2250 [==============================] - 1s 314us/step - loss: 0.4338 - accuracy: 0.8311 - val_loss: 0.7974 - val_accuracy: 0.6413\n",
      "Epoch 77/100\n",
      "2250/2250 [==============================] - 1s 311us/step - loss: 0.4325 - accuracy: 0.8333 - val_loss: 0.8985 - val_accuracy: 0.6187\n",
      "Epoch 78/100\n",
      "2250/2250 [==============================] - 1s 311us/step - loss: 0.4258 - accuracy: 0.8404 - val_loss: 0.7023 - val_accuracy: 0.6773\n",
      "Epoch 79/100\n",
      "2250/2250 [==============================] - 1s 311us/step - loss: 0.4218 - accuracy: 0.8418 - val_loss: 0.7536 - val_accuracy: 0.6547\n",
      "Epoch 80/100\n",
      "2250/2250 [==============================] - 1s 309us/step - loss: 0.4213 - accuracy: 0.8409 - val_loss: 0.7842 - val_accuracy: 0.6387\n",
      "Epoch 81/100\n",
      "2250/2250 [==============================] - 1s 311us/step - loss: 0.4117 - accuracy: 0.8476 - val_loss: 0.7639 - val_accuracy: 0.6600\n",
      "Epoch 82/100\n",
      "2250/2250 [==============================] - 1s 325us/step - loss: 0.4160 - accuracy: 0.8320 - val_loss: 0.7798 - val_accuracy: 0.6347\n",
      "Epoch 83/100\n",
      "2250/2250 [==============================] - 1s 312us/step - loss: 0.4047 - accuracy: 0.8467 - val_loss: 0.7168 - val_accuracy: 0.6720\n",
      "Epoch 84/100\n",
      "2250/2250 [==============================] - 1s 310us/step - loss: 0.4042 - accuracy: 0.8551 - val_loss: 0.7103 - val_accuracy: 0.6840\n",
      "Epoch 85/100\n",
      "2250/2250 [==============================] - 1s 311us/step - loss: 0.4093 - accuracy: 0.8400 - val_loss: 0.7052 - val_accuracy: 0.6867\n",
      "Epoch 86/100\n",
      "2250/2250 [==============================] - 1s 311us/step - loss: 0.3981 - accuracy: 0.8467 - val_loss: 0.7708 - val_accuracy: 0.6627\n",
      "Epoch 87/100\n",
      "2250/2250 [==============================] - 1s 311us/step - loss: 0.3931 - accuracy: 0.8511 - val_loss: 0.7897 - val_accuracy: 0.6440\n",
      "Epoch 88/100\n",
      "2250/2250 [==============================] - 1s 307us/step - loss: 0.3929 - accuracy: 0.8524 - val_loss: 0.7334 - val_accuracy: 0.6653\n",
      "Epoch 89/100\n",
      "2250/2250 [==============================] - 1s 305us/step - loss: 0.3868 - accuracy: 0.8604 - val_loss: 0.7223 - val_accuracy: 0.6573\n",
      "Epoch 90/100\n",
      "2250/2250 [==============================] - 1s 315us/step - loss: 0.3890 - accuracy: 0.8631 - val_loss: 0.7087 - val_accuracy: 0.6733\n",
      "Epoch 91/100\n",
      "2250/2250 [==============================] - 1s 312us/step - loss: 0.3780 - accuracy: 0.8533 - val_loss: 0.7378 - val_accuracy: 0.6653\n",
      "Epoch 92/100\n",
      "2250/2250 [==============================] - 1s 318us/step - loss: 0.3823 - accuracy: 0.8569 - val_loss: 0.8002 - val_accuracy: 0.6453\n",
      "Epoch 93/100\n",
      "2250/2250 [==============================] - 1s 307us/step - loss: 0.3728 - accuracy: 0.8600 - val_loss: 0.7182 - val_accuracy: 0.6747\n",
      "Epoch 94/100\n",
      "2250/2250 [==============================] - 1s 311us/step - loss: 0.3692 - accuracy: 0.8644 - val_loss: 0.7207 - val_accuracy: 0.6880\n",
      "Epoch 95/100\n",
      "2250/2250 [==============================] - 1s 308us/step - loss: 0.3670 - accuracy: 0.8662 - val_loss: 0.7004 - val_accuracy: 0.6947\n",
      "Epoch 96/100\n",
      "2250/2250 [==============================] - 1s 310us/step - loss: 0.3634 - accuracy: 0.8649 - val_loss: 0.7421 - val_accuracy: 0.6480\n",
      "Epoch 97/100\n",
      "2250/2250 [==============================] - 1s 314us/step - loss: 0.3592 - accuracy: 0.8698 - val_loss: 0.7203 - val_accuracy: 0.6680\n",
      "Epoch 98/100\n",
      "2250/2250 [==============================] - 1s 349us/step - loss: 0.3616 - accuracy: 0.8653 - val_loss: 0.7080 - val_accuracy: 0.6813\n",
      "Epoch 99/100\n",
      "2250/2250 [==============================] - 1s 313us/step - loss: 0.3579 - accuracy: 0.8729 - val_loss: 0.8330 - val_accuracy: 0.6253\n",
      "Epoch 100/100\n",
      "2250/2250 [==============================] - 1s 329us/step - loss: 0.3553 - accuracy: 0.8711 - val_loss: 0.7149 - val_accuracy: 0.6707\n"
     ]
    }
   ],
   "source": [
    "# initialize the optimizer and model\n",
    "print(\"[INFO] compiling model...\")\n",
    "opt = SGD(lr = 0.005)\n",
    "\n",
    "model = ShallowNet.build(width = 32, height = 32, depth=3, classes=3)\n",
    "model.compile(loss=\"categorical_crossentropy\", optimizer = opt, metrics = [\"accuracy\"])\n",
    "\n",
    "#train the network\n",
    "H = model.fit(X_train, y_train, validation_data = (X_test, y_test),\n",
    "               batch_size = 32, epochs = 100, verbose = 1)"
   ]
  },
  {
   "cell_type": "code",
   "execution_count": 14,
   "metadata": {},
   "outputs": [
    {
     "name": "stdout",
     "output_type": "stream",
     "text": [
      "[INFO] evaluating the model...\n",
      "              precision    recall  f1-score   support\n",
      "\n",
      "         cat       0.57      0.74      0.65       262\n",
      "         dog       0.62      0.43      0.51       249\n",
      "       panda       0.85      0.84      0.85       239\n",
      "\n",
      "    accuracy                           0.67       750\n",
      "   macro avg       0.68      0.67      0.67       750\n",
      "weighted avg       0.68      0.67      0.66       750\n",
      "\n"
     ]
    }
   ],
   "source": [
    "print(\"[INFO] evaluating the model...\")\n",
    "y_pred = model.predict(X_test, batch_size = 32)\n",
    "print(classification_report(y_test.argmax(axis = 1), \n",
    "                            y_pred.argmax(axis = 1), \n",
    "                           target_names= [\"cat\", \"dog\", \"panda\"]))"
   ]
  },
  {
   "cell_type": "code",
   "execution_count": 16,
   "metadata": {},
   "outputs": [
    {
     "data": {
      "image/png": "[encoded data removed]",
      "text/plain": [
       "<Figure size 432x288 with 1 Axes>"
      ]
     },
     "metadata": {},
     "output_type": "display_data"
    }
   ],
   "source": [
    "# plot the training loss and accuracy\n",
    "plt.style.use(\"ggplot\")\n",
    "plt.figure()\n",
    "plt.plot(np.arange(0, 100), H.history[\"loss\"], label=\"train_loss\")\n",
    "plt.plot(np.arange(0, 100), H.history[\"val_loss\"], label=\"val_loss\")\n",
    "plt.plot(np.arange(0, 100), H.history[\"accuracy\"], label=\"train_acc\")\n",
    "plt.plot(np.arange(0, 100), H.history[\"val_accuracy\"], label=\"val_acc\")\n",
    "plt.title(\"Training Loss/Accuracy\")\n",
    "plt.xlabel(\"Epoch #\")\n",
    "plt.ylabel(\"Loss/Accuracy\")\n",
    "plt.legend()\n",
    "plt.show()"
   ]
  },
  {
   "cell_type": "markdown",
   "metadata": {},
   "source": [
    "## Shallow Net on CIFAR-10"
   ]
  },
  {
   "cell_type": "code",
   "execution_count": 1,
   "metadata": {},
   "outputs": [],
   "source": [
    "from sklearn.preprocessing import LabelBinarizer\n",
    "from sklearn.metrics import classification_report\n",
    "from dlframework.nn.conv import ShallowNet\n",
    "from keras.datasets import cifar10\n",
    "from keras.optimizers import SGD\n",
    "import matplotlib.pyplot as plt\n",
    "import numpy as np"
   ]
  },
  {
   "cell_type": "code",
   "execution_count": 4,
   "metadata": {},
   "outputs": [],
   "source": [
    "# load the training and testing data, then scale it into the range [0, 1]\n",
    "print(\"[INFO] loading data...\")\n",
    "((X_train, y_train), (X_test, y_test)) = cifar10.load_data()\n",
    "X_train = X_train.astype(\"float\") / 255.0\n",
    "X_test = X_test.astype(\"float\") / 255.0\n"
   ]
  },
  {
   "cell_type": "code",
   "execution_count": 6,
   "metadata": {},
   "outputs": [],
   "source": [
    "# convert the labels from integers to vectors\n",
    "lb = LabelBinarizer()\n",
    "y_train = lb.fit_transform(y_train)\n",
    "y_test = lb.fit_transform(y_test)\n"
   ]
  },
  {
   "cell_type": "code",
   "execution_count": 7,
   "metadata": {},
   "outputs": [],
   "source": [
    "# initialize the label names for the CIFAR-10 dataset\n",
    "labelNames = [\"airplane\", \"automobile\", \"bird\", \"cat\", \"deer\",\n",
    "    \"dog\", \"frog\", \"horse\", \"ship\", \"truck\"]"
   ]
  },
  {
   "cell_type": "code",
   "execution_count": 8,
   "metadata": {},
   "outputs": [],
   "source": [
    "print(\"[INFO] compiling model...\")\n",
    "model = ShallowNet.build(width=32, height=32, depth=3, classes=10)\n",
    "opt = SGD(learning_rate=0.01)\n",
    "model.compile(loss = \"categorical_crossentropy\", optimizer = opt, metrics=[\"accuracy\"])"
   ]
  },
  {
   "cell_type": "code",
   "execution_count": 9,
   "metadata": {},
   "outputs": [
    {
     "name": "stdout",
     "output_type": "stream",
     "text": [
      "[INFO] training network...\n",
      "Train on 50000 samples, validate on 10000 samples\n",
      "Epoch 1/40\n",
      "50000/50000 [==============================] - 17s 341us/step - loss: 1.8298 - accuracy: 0.3574 - val_loss: 1.6768 - val_accuracy: 0.4101\n",
      "Epoch 2/40\n",
      "50000/50000 [==============================] - 17s 341us/step - loss: 1.5788 - accuracy: 0.4552 - val_loss: 1.5909 - val_accuracy: 0.4382\n",
      "Epoch 3/40\n",
      "50000/50000 [==============================] - 17s 340us/step - loss: 1.4220 - accuracy: 0.5058 - val_loss: 1.3949 - val_accuracy: 0.5067\n",
      "Epoch 4/40\n",
      "50000/50000 [==============================] - 17s 338us/step - loss: 1.3235 - accuracy: 0.5389 - val_loss: 1.3460 - val_accuracy: 0.5225\n",
      "Epoch 5/40\n",
      "50000/50000 [==============================] - 17s 338us/step - loss: 1.2635 - accuracy: 0.5621 - val_loss: 1.4219 - val_accuracy: 0.5141\n",
      "Epoch 6/40\n",
      "50000/50000 [==============================] - 17s 348us/step - loss: 1.2214 - accuracy: 0.5757 - val_loss: 1.3000 - val_accuracy: 0.5367\n",
      "Epoch 7/40\n",
      "50000/50000 [==============================] - 17s 346us/step - loss: 1.1892 - accuracy: 0.5873 - val_loss: 1.2729 - val_accuracy: 0.5561\n",
      "Epoch 8/40\n",
      "50000/50000 [==============================] - 17s 341us/step - loss: 1.1612 - accuracy: 0.5978 - val_loss: 1.4485 - val_accuracy: 0.4900\n",
      "Epoch 9/40\n",
      "50000/50000 [==============================] - 18s 351us/step - loss: 1.1369 - accuracy: 0.6049 - val_loss: 1.2667 - val_accuracy: 0.5488\n",
      "Epoch 10/40\n",
      "50000/50000 [==============================] - 18s 363us/step - loss: 1.1143 - accuracy: 0.6151 - val_loss: 1.2641 - val_accuracy: 0.5575\n",
      "Epoch 11/40\n",
      "50000/50000 [==============================] - 18s 354us/step - loss: 1.0902 - accuracy: 0.6211 - val_loss: 1.2219 - val_accuracy: 0.5703\n",
      "Epoch 12/40\n",
      "50000/50000 [==============================] - 18s 361us/step - loss: 1.0730 - accuracy: 0.6288 - val_loss: 1.2404 - val_accuracy: 0.5623\n",
      "Epoch 13/40\n",
      "50000/50000 [==============================] - 18s 364us/step - loss: 1.0529 - accuracy: 0.6367 - val_loss: 1.2236 - val_accuracy: 0.5730\n",
      "Epoch 14/40\n",
      "50000/50000 [==============================] - 18s 360us/step - loss: 1.0345 - accuracy: 0.6419 - val_loss: 1.2467 - val_accuracy: 0.5693\n",
      "Epoch 15/40\n",
      "50000/50000 [==============================] - 18s 358us/step - loss: 1.0168 - accuracy: 0.6463 - val_loss: 1.2265 - val_accuracy: 0.5653\n",
      "Epoch 16/40\n",
      "50000/50000 [==============================] - 18s 369us/step - loss: 0.9988 - accuracy: 0.6553 - val_loss: 1.3011 - val_accuracy: 0.5516\n",
      "Epoch 17/40\n",
      "50000/50000 [==============================] - 19s 386us/step - loss: 0.9846 - accuracy: 0.6586 - val_loss: 1.3088 - val_accuracy: 0.5510\n",
      "Epoch 18/40\n",
      "50000/50000 [==============================] - 20s 402us/step - loss: 0.9702 - accuracy: 0.6650 - val_loss: 1.1952 - val_accuracy: 0.5863\n",
      "Epoch 19/40\n",
      "50000/50000 [==============================] - 19s 387us/step - loss: 0.9536 - accuracy: 0.6707 - val_loss: 1.2390 - val_accuracy: 0.5625\n",
      "Epoch 20/40\n",
      "50000/50000 [==============================] - 19s 390us/step - loss: 0.9411 - accuracy: 0.6734 - val_loss: 1.2345 - val_accuracy: 0.5766\n",
      "Epoch 21/40\n",
      "50000/50000 [==============================] - 21s 418us/step - loss: 0.9259 - accuracy: 0.6795 - val_loss: 1.2016 - val_accuracy: 0.5807\n",
      "Epoch 22/40\n",
      "50000/50000 [==============================] - 20s 406us/step - loss: 0.9111 - accuracy: 0.6867 - val_loss: 1.2080 - val_accuracy: 0.5827\n",
      "Epoch 23/40\n",
      "50000/50000 [==============================] - 19s 373us/step - loss: 0.8994 - accuracy: 0.6872 - val_loss: 1.2193 - val_accuracy: 0.5809\n",
      "Epoch 24/40\n",
      "50000/50000 [==============================] - 18s 350us/step - loss: 0.8851 - accuracy: 0.6942 - val_loss: 1.2461 - val_accuracy: 0.5752\n",
      "Epoch 25/40\n",
      "50000/50000 [==============================] - 18s 363us/step - loss: 0.8705 - accuracy: 0.7011 - val_loss: 1.2087 - val_accuracy: 0.5791\n",
      "Epoch 26/40\n",
      "50000/50000 [==============================] - 18s 362us/step - loss: 0.8556 - accuracy: 0.7047 - val_loss: 1.3540 - val_accuracy: 0.5519\n",
      "Epoch 27/40\n",
      "50000/50000 [==============================] - 18s 361us/step - loss: 0.8432 - accuracy: 0.7092 - val_loss: 1.2124 - val_accuracy: 0.5947\n",
      "Epoch 28/40\n",
      "50000/50000 [==============================] - 18s 361us/step - loss: 0.8301 - accuracy: 0.7120 - val_loss: 1.2110 - val_accuracy: 0.5868\n",
      "Epoch 29/40\n",
      "50000/50000 [==============================] - 19s 370us/step - loss: 0.8180 - accuracy: 0.7202 - val_loss: 1.1997 - val_accuracy: 0.5944\n",
      "Epoch 30/40\n",
      "50000/50000 [==============================] - 18s 360us/step - loss: 0.8051 - accuracy: 0.7207 - val_loss: 1.2331 - val_accuracy: 0.5827\n",
      "Epoch 31/40\n",
      "50000/50000 [==============================] - 18s 367us/step - loss: 0.7939 - accuracy: 0.7267 - val_loss: 1.2384 - val_accuracy: 0.5818\n",
      "Epoch 32/40\n",
      "50000/50000 [==============================] - 19s 373us/step - loss: 0.7806 - accuracy: 0.7300 - val_loss: 1.2385 - val_accuracy: 0.5825\n",
      "Epoch 33/40\n",
      "50000/50000 [==============================] - 18s 368us/step - loss: 0.7685 - accuracy: 0.7349 - val_loss: 1.1998 - val_accuracy: 0.5993\n",
      "Epoch 34/40\n",
      "50000/50000 [==============================] - 18s 368us/step - loss: 0.7561 - accuracy: 0.7398 - val_loss: 1.2660 - val_accuracy: 0.5874\n",
      "Epoch 35/40\n",
      "50000/50000 [==============================] - 17s 332us/step - loss: 0.7436 - accuracy: 0.7448 - val_loss: 1.2259 - val_accuracy: 0.5930\n",
      "Epoch 36/40\n",
      "50000/50000 [==============================] - 17s 337us/step - loss: 0.7336 - accuracy: 0.7469 - val_loss: 1.2439 - val_accuracy: 0.5896\n",
      "Epoch 37/40\n",
      "50000/50000 [==============================] - 17s 338us/step - loss: 0.7211 - accuracy: 0.7531 - val_loss: 1.2526 - val_accuracy: 0.5920\n",
      "Epoch 38/40\n",
      "50000/50000 [==============================] - 17s 342us/step - loss: 0.7114 - accuracy: 0.7562 - val_loss: 1.2205 - val_accuracy: 0.5971\n",
      "Epoch 39/40\n",
      "50000/50000 [==============================] - 21s 411us/step - loss: 0.6993 - accuracy: 0.7587 - val_loss: 1.2328 - val_accuracy: 0.5961\n",
      "Epoch 40/40\n",
      "50000/50000 [==============================] - 17s 349us/step - loss: 0.6892 - accuracy: 0.7638 - val_loss: 1.2424 - val_accuracy: 0.5969\n"
     ]
    }
   ],
   "source": [
    "print(\"[INFO] training network...\")\n",
    "H = model.fit(X_train, y_train, validation_data=(X_test, y_test),\n",
    "          batch_size=32, epochs=40, verbose=1)"
   ]
  },
  {
   "cell_type": "code",
   "execution_count": 10,
   "metadata": {},
   "outputs": [
    {
     "name": "stdout",
     "output_type": "stream",
     "text": [
      "[INFO] evaluating the network...\n",
      "              precision    recall  f1-score   support\n",
      "\n",
      "    airplane       0.66      0.66      0.66      1000\n",
      "  automobile       0.80      0.64      0.71      1000\n",
      "        bird       0.48      0.41      0.44      1000\n",
      "         cat       0.36      0.59      0.45      1000\n",
      "        deer       0.53      0.52      0.53      1000\n",
      "         dog       0.54      0.41      0.47      1000\n",
      "        frog       0.61      0.71      0.66      1000\n",
      "       horse       0.76      0.60      0.67      1000\n",
      "        ship       0.76      0.69      0.73      1000\n",
      "       truck       0.65      0.73      0.69      1000\n",
      "\n",
      "    accuracy                           0.60     10000\n",
      "   macro avg       0.62      0.60      0.60     10000\n",
      "weighted avg       0.62      0.60      0.60     10000\n",
      "\n"
     ]
    }
   ],
   "source": [
    "print(\"[INFO] evaluating the network...\")\n",
    "predictions = model.predict(X_test, batch_size = 32)\n",
    "print(classification_report(y_test.argmax(axis = 1),\n",
    "                           predictions.argmax(axis = 1), \n",
    "                           target_names = labelNames))"
   ]
  },
  {
   "cell_type": "code",
   "execution_count": 13,
   "metadata": {},
   "outputs": [
    {
     "data": {
      "image/png": "[encoded data removed]",
      "text/plain": [
       "<Figure size 432x288 with 1 Axes>"
      ]
     },
     "metadata": {},
     "output_type": "display_data"
    }
   ],
   "source": [
    "plt.style.use(\"ggplot\")\n",
    "plt.figure()\n",
    "plt.plot(np.arange(0, 40), H.history[\"loss\"], label=\"train_loss\")\n",
    "plt.plot(np.arange(0, 40), H.history[\"val_loss\"], label=\"val_loss\")\n",
    "plt.plot(np.arange(0, 40), H.history[\"accuracy\"], label=\"train_acc\")\n",
    "plt.plot(np.arange(0, 40), H.history[\"val_accuracy\"], label=\"val_acc\")\n",
    "plt.title(\"Training loss/accuracy\")\n",
    "plt.xlabel(\"Epoch #\")\n",
    "plt.ylabel(\" loss / accuracy\")\n",
    "plt.legend()\n",
    "plt.show()"
   ]
  },
  {
   "cell_type": "code",
   "execution_count": null,
   "metadata": {},
   "outputs": [],
   "source": []
  }
 ],
 "metadata": {
  "kernelspec": {
   "display_name": "Python 3",
   "language": "python",
   "name": "python3"
  },
  "language_info": {
   "codemirror_mode": {
    "name": "ipython",
    "version": 3
   },
   "file_extension": ".py",
   "mimetype": "text/x-python",
   "name": "python",
   "nbconvert_exporter": "python",
   "pygments_lexer": "ipython3",
   "version": "3.5.2"
  }
 },
 "nbformat": 4,
 "nbformat_minor": 2
}
